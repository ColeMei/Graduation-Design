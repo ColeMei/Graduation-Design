{
 "cells": [
  {
   "cell_type": "markdown",
   "id": "865c9420",
   "metadata": {},
   "source": [
    "# Part 2. Topic analysis of positive and negative comments using LDA models"
   ]
  },
  {
   "cell_type": "code",
   "execution_count": 1,
   "id": "b11b6356",
   "metadata": {},
   "outputs": [],
   "source": [
    "import os\n",
    "import gensim\n",
    "from gensim.corpora import Dictionary\n",
    "from gensim.models import LdaModel\n",
    "from gensim.models import CoherenceModel\n",
    "import pyLDAvis.gensim\n",
    "import numpy as np\n",
    "from sklearn.metrics.pairwise import cosine_similarity\n",
    "import warnings\n",
    "warnings.filterwarnings('ignore')"
   ]
  },
  {
   "cell_type": "markdown",
   "id": "3b8b1c28",
   "metadata": {},
   "source": [
    "## 1. Calculation of the optimal number of topics"
   ]
  },
  {
   "cell_type": "markdown",
   "id": "a2bc8dbb",
   "metadata": {},
   "source": [
    "### Function Design : Use Perplexity and Coherence "
   ]
  },
  {
   "cell_type": "code",
   "execution_count": 2,
   "id": "200a5493",
   "metadata": {},
   "outputs": [],
   "source": [
    "def get_optimal_topic_num_by_perplexity(file_path, num_topics_range):\n",
    "    '''\n",
    "    Compute the optimal number of topics.\n",
    "\n",
    "    Parameters:\n",
    "    file_path: str, the file path of the preprocessed text file.\n",
    "    num_topics_range: list, the range of topic numbers to try.\n",
    "\n",
    "    Returns:\n",
    "    best_num_topics: int, the optimal number of topics.\n",
    "    '''\n",
    "\n",
    "    # Read the file and create the corpus.\n",
    "    with open(file_path, 'r', encoding='utf-8') as f:\n",
    "        corpus = [line.strip().split() for line in f]\n",
    "\n",
    "    # Create the dictionary.\n",
    "    dictionary = Dictionary(corpus)\n",
    "\n",
    "    # Train the LDA models with different topic numbers, and calculate the perplexity values.\n",
    "    perplexity_values = []\n",
    "    lda_models = []\n",
    "    for num_topics in num_topics_range:\n",
    "        lda_model = LdaModel(corpus=[dictionary.doc2bow(text) for text in corpus], id2word=dictionary, num_topics=num_topics)\n",
    "        lda_models.append(lda_model)\n",
    "        perplexity_values.append(lda_model.log_perplexity([dictionary.doc2bow(text) for text in corpus]))\n",
    "\n",
    "    # Calculate the coherence scores using the perplexity values.\n",
    "    coherence_scores = [CoherenceModel(model=lda_model, texts=corpus, dictionary=dictionary, coherence='c_v').get_coherence() for lda_model in lda_models]\n",
    "\n",
    "    # Find the optimal number of topics based on the coherence scores.\n",
    "    best_num_topics_index = coherence_scores.index(max(coherence_scores))\n",
    "    best_num_topics = num_topics_range[best_num_topics_index]\n",
    "    \n",
    "    print(\"Optimal number of topics (using perplexity method):\", best_num_topics)\n",
    "\n",
    "    return best_num_topics\n"
   ]
  },
  {
   "cell_type": "markdown",
   "id": "a924954a",
   "metadata": {},
   "source": [
    "### Function Design : Use Cosine_Similarity"
   ]
  },
  {
   "cell_type": "code",
   "execution_count": 3,
   "id": "048bc41c",
   "metadata": {},
   "outputs": [],
   "source": [
    "def get_optimal_topic_num_by_similarity(file_path, num_topics_range):\n",
    "    '''\n",
    "    Compute the optimal number of topics.\n",
    "\n",
    "    Parameters:\n",
    "    file_path: str, the file path of the preprocessed text file.\n",
    "    num_topics_range: list, the range of topic numbers to try.\n",
    "\n",
    "    Returns:\n",
    "    best_num_topics: int, the optimal number of topics.\n",
    "    '''\n",
    "    # Read file and create corpus\n",
    "    with open(file_path, 'r', encoding='utf-8') as f:\n",
    "        corpus = [line.strip().split() for line in f]\n",
    "\n",
    "    # Create dictionary\n",
    "    dictionary = gensim.corpora.Dictionary(corpus)\n",
    "\n",
    "    # Train LDA model and compute cosine similarity between topics for different number of topics\n",
    "    similarity_values = []\n",
    "    for num_topics in num_topics_range:\n",
    "        lda_model = gensim.models.ldamodel.LdaModel(corpus=[dictionary.doc2bow(text) for text in corpus], id2word=dictionary, num_topics=num_topics)\n",
    "        topics_matrix = lda_model.get_topics()\n",
    "        cosine_similarities = cosine_similarity(topics_matrix)\n",
    "        similarity_values.append(np.min(cosine_similarities[np.triu_indices(num_topics, k=1)]))\n",
    "\n",
    "    # Find the optimal number of topics\n",
    "    best_num_topics_index = similarity_values.index(max(similarity_values))\n",
    "    best_num_topics = num_topics_range[best_num_topics_index]\n",
    "    \n",
    "    print(\"Optimal number of topics (using cosine similarity method):\", best_num_topics)\n",
    "    \n",
    "    return best_num_topics\n"
   ]
  },
  {
   "cell_type": "markdown",
   "id": "c28b260e",
   "metadata": {},
   "source": [
    "### Call the function to output the respective optimal number of topics"
   ]
  },
  {
   "cell_type": "code",
   "execution_count": 4,
   "id": "294071ef",
   "metadata": {},
   "outputs": [],
   "source": [
    "# Create a list of integers for the range of number of topics.\n",
    "num_topics_range = list(range(3, 10))"
   ]
  },
  {
   "cell_type": "markdown",
   "id": "b69a6526",
   "metadata": {},
   "source": [
    "#### For stores 1"
   ]
  },
  {
   "cell_type": "code",
   "execution_count": null,
   "id": "bdf7d6c3",
   "metadata": {},
   "outputs": [],
   "source": [
    "# Set the file path for a text file.\n",
    "file_path = \"../data/review/analysis/polarity/reviews_1_polarity_P.txt\"\n",
    "\n",
    "# Get the optimal number of topics based on perplexity and cosine similarity.\n",
    "best_num_topics_perplexity = get_optimal_topic_num_by_perplexity(file_path, num_topics_range)\n",
    "best_num_topics_similarity = get_optimal_topic_num_by_similarity(file_path, num_topics_range)\n",
    "\n",
    "# Print the ultimate optimal number of topics.\n",
    "P1_best_num_topics = int((best_num_topics_perplexity + best_num_topics_similarity)/2)\n",
    "print(\"Ultimate optimal number of topics :\", P1_best_num_topics)"
   ]
  },
  {
   "cell_type": "code",
   "execution_count": null,
   "id": "ddfb3764",
   "metadata": {},
   "outputs": [],
   "source": [
    "# Set the file path for a text file.\n",
    "file_path = \"../data/review/analysis/polarity/reviews_1_polarity_N.txt\"\n",
    "\n",
    "# Get the optimal number of topics based on perplexity and cosine similarity.\n",
    "best_num_topics_perplexity = get_optimal_topic_num_by_perplexity(file_path, num_topics_range)\n",
    "best_num_topics_similarity = get_optimal_topic_num_by_similarity(file_path, num_topics_range)\n",
    "\n",
    "# Print the ultimate optimal number of topics.\n",
    "N1_best_num_topics = int((best_num_topics_perplexity + best_num_topics_similarity)/2)\n",
    "print(\"Ultimate optimal number of topics :\", N1_best_num_topics)"
   ]
  },
  {
   "cell_type": "markdown",
   "id": "0f371d96",
   "metadata": {},
   "source": [
    "#### For stores 2"
   ]
  },
  {
   "cell_type": "code",
   "execution_count": null,
   "id": "f427b03d",
   "metadata": {},
   "outputs": [],
   "source": [
    "# Set the file path for a text file.\n",
    "file_path = \"../data/review/analysis/polarity/reviews_2_polarity_P.txt\"\n",
    "\n",
    "# Get the optimal number of topics based on perplexity and cosine similarity.\n",
    "best_num_topics_perplexity = get_optimal_topic_num_by_perplexity(file_path, num_topics_range)\n",
    "best_num_topics_similarity = get_optimal_topic_num_by_similarity(file_path, num_topics_range)\n",
    "\n",
    "# Print the ultimate optimal number of topics.\n",
    "P2_best_num_topics = int((best_num_topics_perplexity + best_num_topics_similarity)/2)\n",
    "print(\"Ultimate optimal number of topics :\", P2_best_num_topics)"
   ]
  },
  {
   "cell_type": "code",
   "execution_count": null,
   "id": "3272dd1e",
   "metadata": {},
   "outputs": [],
   "source": [
    "# Set the file path for a text file.\n",
    "file_path = \"../data/review/analysis/polarity/reviews_2_polarity_N.txt\"\n",
    "\n",
    "# Get the optimal number of topics based on perplexity and cosine similarity.\n",
    "best_num_topics_perplexity = get_optimal_topic_num_by_perplexity(file_path, num_topics_range)\n",
    "best_num_topics_similarity = get_optimal_topic_num_by_similarity(file_path, num_topics_range)\n",
    "\n",
    "# Print the ultimate optimal number of topics.\n",
    "N2_best_num_topics = int((best_num_topics_perplexity + best_num_topics_similarity)/2)\n",
    "print(\"Ultimate optimal number of topics :\", N2_best_num_topics)"
   ]
  },
  {
   "cell_type": "markdown",
   "id": "3baee787",
   "metadata": {},
   "source": [
    "#### For stores 3"
   ]
  },
  {
   "cell_type": "code",
   "execution_count": null,
   "id": "f587a2f0",
   "metadata": {},
   "outputs": [],
   "source": [
    "# Set the file path for a text file.\n",
    "file_path = \"../data/review/analysis/polarity/reviews_3_polarity_P.txt\"\n",
    "\n",
    "# Get the optimal number of topics based on perplexity and cosine similarity.\n",
    "best_num_topics_perplexity = get_optimal_topic_num_by_perplexity(file_path, num_topics_range)\n",
    "best_num_topics_similarity = get_optimal_topic_num_by_similarity(file_path, num_topics_range)\n",
    "\n",
    "# Print the ultimate optimal number of topics.\n",
    "P3_best_num_topics = int((best_num_topics_perplexity + best_num_topics_similarity)/2)\n",
    "print(\"Ultimate optimal number of topics :\", P3_best_num_topics)"
   ]
  },
  {
   "cell_type": "code",
   "execution_count": null,
   "id": "36674791",
   "metadata": {},
   "outputs": [],
   "source": [
    "# Set the file path for a text file.\n",
    "file_path = \"../data/review/analysis/polarity/reviews_3_polarity_N.txt\"\n",
    "\n",
    "# Get the optimal number of topics based on perplexity and cosine similarity.\n",
    "best_num_topics_perplexity = get_optimal_topic_num_by_perplexity(file_path, num_topics_range)\n",
    "best_num_topics_similarity = get_optimal_topic_num_by_similarity(file_path, num_topics_range)\n",
    "\n",
    "# Print the ultimate optimal number of topics.\n",
    "N3_best_num_topics = int((best_num_topics_perplexity + best_num_topics_similarity)/2)\n",
    "print(\"Ultimate optimal number of topics :\", N3_best_num_topics)"
   ]
  },
  {
   "cell_type": "markdown",
   "id": "bad9c4f1",
   "metadata": {},
   "source": [
    "#### For stores 4"
   ]
  },
  {
   "cell_type": "code",
   "execution_count": null,
   "id": "ca8e5d67",
   "metadata": {},
   "outputs": [],
   "source": [
    "# Set the file path for a text file.\n",
    "file_path = \"../data/review/analysis/polarity/reviews_4_polarity_P.txt\"\n",
    "\n",
    "# Get the optimal number of topics based on perplexity and cosine similarity.\n",
    "best_num_topics_perplexity = get_optimal_topic_num_by_perplexity(file_path, num_topics_range)\n",
    "best_num_topics_similarity = get_optimal_topic_num_by_similarity(file_path, num_topics_range)\n",
    "\n",
    "# Print the ultimate optimal number of topics.\n",
    "P4_best_num_topics = int((best_num_topics_perplexity + best_num_topics_similarity)/2)\n",
    "print(\"Ultimate optimal number of topics :\", P4_best_num_topics)"
   ]
  },
  {
   "cell_type": "code",
   "execution_count": null,
   "id": "2be2e95d",
   "metadata": {
    "scrolled": true
   },
   "outputs": [],
   "source": [
    "# Set the file path for a text file.\n",
    "file_path = \"../data/review/analysis/polarity/reviews_4_polarity_N.txt\"\n",
    "\n",
    "# Get the optimal number of topics based on perplexity and cosine similarity.\n",
    "best_num_topics_perplexity = get_optimal_topic_num_by_perplexity(file_path, num_topics_range)\n",
    "best_num_topics_similarity = get_optimal_topic_num_by_similarity(file_path, num_topics_range)\n",
    "\n",
    "# Print the ultimate optimal number of topics.\n",
    "N4_best_num_topics = int((best_num_topics_perplexity + best_num_topics_similarity)/2)\n",
    "print(\"Ultimate optimal number of topics :\", N4_best_num_topics)"
   ]
  },
  {
   "cell_type": "markdown",
   "id": "ee30203c",
   "metadata": {},
   "source": [
    "## 2. Get Topic-Word Distribution"
   ]
  },
  {
   "cell_type": "markdown",
   "id": "5ae55e62",
   "metadata": {},
   "source": [
    "### Function design : LDA model training, topic-word distribution output and visualization"
   ]
  },
  {
   "cell_type": "code",
   "execution_count": null,
   "id": "f5a99690",
   "metadata": {},
   "outputs": [],
   "source": [
    "def lda_topic_modeling(file_path, num_topics):\n",
    "    # Read the text file\n",
    "    with open(file_path, \"r\", encoding=\"utf-8\") as f:\n",
    "        texts = [line.strip().split() for line in f]\n",
    "\n",
    "    # Build the dictionary and bag-of-words model\n",
    "    dictionary = Dictionary(texts)\n",
    "    print(dictionary)\n",
    "    dictionary.filter_extremes(no_below=15, no_above=0.1, keep_n=2000)\n",
    "    print(dictionary)\n",
    "    corpus = [dictionary.doc2bow(doc) for doc in texts]\n",
    "\n",
    "    # Train the LDA model\n",
    "    lda_model = LdaModel(corpus=corpus, \n",
    "                         num_topics=num_topics, \n",
    "                         id2word=dictionary, \n",
    "                         random_state=100,\n",
    "                         update_every=1,\n",
    "                         chunksize=100,\n",
    "                         passes=10,\n",
    "                         alpha='auto',\n",
    "                         per_word_topics=True)\n",
    "\n",
    "    # Print the top keywords for each topic\n",
    "    for topic_id in range(num_topics):\n",
    "        topic_words = lda_model.show_topic(topic_id, topn=10)\n",
    "        print(\"Topic {}: {}\".format(topic_id, \", \".join([word for word, prob in topic_words])))\n",
    "\n",
    "    # Compute visualization data for the LDA model\n",
    "    vis_data = pyLDAvis.gensim.prepare(lda_model, corpus, dictionary)\n",
    "\n",
    "    # Extract a portion of the file path as the filename\n",
    "    filename = os.path.splitext(os.path.basename(file_path))[0]\n",
    "    filename = \"pyLDAvis/lda_visualization_{}.html\".format(filename)\n",
    "\n",
    "    # Save the visualization as an HTML file\n",
    "    pyLDAvis.save_html(vis_data, filename)\n",
    "    print(\"Visualization saved as:\", filename)"
   ]
  },
  {
   "cell_type": "markdown",
   "id": "9c4ad054",
   "metadata": {},
   "source": [
    "### Call the function to Complete LDA theme analysis"
   ]
  },
  {
   "cell_type": "markdown",
   "id": "e72f2e32",
   "metadata": {},
   "source": [
    "#### For stores 1"
   ]
  },
  {
   "cell_type": "markdown",
   "id": "7ced973c",
   "metadata": {},
   "source": [
    "#### Postive review"
   ]
  },
  {
   "cell_type": "code",
   "execution_count": null,
   "id": "52bd2083",
   "metadata": {},
   "outputs": [],
   "source": [
    "file_path = \"../data/review/analysis/polarity/reviews_1_polarity_P.txt\"\n",
    "lda_topic_modeling(file_path, P1_best_num_topics)"
   ]
  },
  {
   "cell_type": "markdown",
   "id": "5c355460",
   "metadata": {},
   "source": [
    "#### Negative review"
   ]
  },
  {
   "cell_type": "code",
   "execution_count": null,
   "id": "3e6975c4",
   "metadata": {},
   "outputs": [],
   "source": [
    "file_path = \"../data/review/analysis/polarity/reviews_1_polarity_N.txt\"\n",
    "lda_topic_modeling(file_path, N1_best_num_topics)"
   ]
  },
  {
   "cell_type": "markdown",
   "id": "5ff742de",
   "metadata": {},
   "source": [
    "#### For stores 2"
   ]
  },
  {
   "cell_type": "markdown",
   "id": "5afe60b8",
   "metadata": {},
   "source": [
    "#### Postive review"
   ]
  },
  {
   "cell_type": "code",
   "execution_count": null,
   "id": "253419bc",
   "metadata": {},
   "outputs": [],
   "source": [
    "file_path = \"../data/review/analysis/polarity/reviews_2_polarity_P.txt\"\n",
    "lda_topic_modeling(file_path, P2_best_num_topics)"
   ]
  },
  {
   "cell_type": "markdown",
   "id": "54a4f5cf",
   "metadata": {},
   "source": [
    "#### Negative review"
   ]
  },
  {
   "cell_type": "code",
   "execution_count": null,
   "id": "b5f8e87c",
   "metadata": {},
   "outputs": [],
   "source": [
    "file_path = \"../data/review/analysis/polarity/reviews_2_polarity_N.txt\"\n",
    "lda_topic_modeling(file_path, N2_best_num_topics)"
   ]
  },
  {
   "cell_type": "markdown",
   "id": "039213bf",
   "metadata": {},
   "source": [
    "#### For stores 3"
   ]
  },
  {
   "cell_type": "markdown",
   "id": "6d7db60b",
   "metadata": {},
   "source": [
    "#### Postive review"
   ]
  },
  {
   "cell_type": "code",
   "execution_count": null,
   "id": "13cec8c3",
   "metadata": {},
   "outputs": [],
   "source": [
    "file_path = \"../data/review/analysis/polarity/reviews_3_polarity_P.txt\"\n",
    "lda_topic_modeling(file_path, P3_best_num_topics)"
   ]
  },
  {
   "cell_type": "markdown",
   "id": "3e73be68",
   "metadata": {},
   "source": [
    "#### Negative review"
   ]
  },
  {
   "cell_type": "code",
   "execution_count": null,
   "id": "ecc80e24",
   "metadata": {},
   "outputs": [],
   "source": [
    "file_path = \"../data/review/analysis/polarity/reviews_3_polarity_N.txt\"\n",
    "lda_topic_modeling(file_path, N3_best_num_topics)"
   ]
  },
  {
   "cell_type": "markdown",
   "id": "b6360785",
   "metadata": {},
   "source": [
    "#### For stores 4"
   ]
  },
  {
   "cell_type": "markdown",
   "id": "f9869833",
   "metadata": {},
   "source": [
    "#### Postive review"
   ]
  },
  {
   "cell_type": "code",
   "execution_count": null,
   "id": "f2614292",
   "metadata": {},
   "outputs": [],
   "source": [
    "file_path = \"../data/review/analysis/polarity/reviews_4_polarity_P.txt\"\n",
    "lda_topic_modeling(file_path, P4_best_num_topics)"
   ]
  },
  {
   "cell_type": "markdown",
   "id": "ca92e5ff",
   "metadata": {},
   "source": [
    "#### Negative review"
   ]
  },
  {
   "cell_type": "code",
   "execution_count": null,
   "id": "aaf9b518",
   "metadata": {},
   "outputs": [],
   "source": [
    "file_path = \"../data/review/analysis/polarity/reviews_4_polarity_N.txt\"\n",
    "lda_topic_modeling(file_path, N4_best_num_topics)"
   ]
  }
 ],
 "metadata": {
  "kernelspec": {
   "display_name": "Datascience",
   "language": "python",
   "name": "datascience"
  },
  "language_info": {
   "codemirror_mode": {
    "name": "ipython",
    "version": 3
   },
   "file_extension": ".py",
   "mimetype": "text/x-python",
   "name": "python",
   "nbconvert_exporter": "python",
   "pygments_lexer": "ipython3",
   "version": "3.9.13"
  }
 },
 "nbformat": 4,
 "nbformat_minor": 5
}
