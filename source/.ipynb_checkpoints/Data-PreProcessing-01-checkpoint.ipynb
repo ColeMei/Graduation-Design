{
 "cells": [
  {
   "cell_type": "code",
   "execution_count": 15,
   "id": "61b67bb5",
   "metadata": {},
   "outputs": [],
   "source": [
    "import pandas as pd\n",
    "import re\n",
    "import os\n",
    "import regex as re\n",
    "import string\n",
    "import csv\n",
    "import jieba"
   ]
  },
  {
   "cell_type": "markdown",
   "id": "574b7fe6",
   "metadata": {},
   "source": [
    "## 1. Extract the review data from csv and save it as txt"
   ]
  },
  {
   "cell_type": "code",
   "execution_count": 16,
   "id": "29a4e4a7",
   "metadata": {},
   "outputs": [],
   "source": [
    "# Define the file paths to read from\n",
    "file_paths = ['../data/北京apm.csv', '../data/王府中環.csv', '../data/王府井百货.csv', '../data/东方新天地.csv']\n",
    "\n",
    "# Loop over each file, extract the data from the 'review' column and save it to a text file\n",
    "for i, path in enumerate(file_paths):\n",
    "    # Read the CSV file\n",
    "    df = pd.read_csv(path, index_col=0)  # Set the index_col to 0 to use the first column as the index\n",
    "    # Define the path for the output text file\n",
    "    txt_path = f'../data/review/reviews_{i+1}.txt'\n",
    "    # Write the review data to the output text file\n",
    "    with open(txt_path, 'w') as f:\n",
    "        for j, review in enumerate(df['review']):\n",
    "            # Clean up the text data by removing special characters\n",
    "            review = re.sub('[\\n\\r\\t ]+', '', review)\n",
    "            # Write the review data to the output text file\n",
    "            f.write(str(review) + '\\n')"
   ]
  },
  {
   "cell_type": "markdown",
   "id": "19bb27d7",
   "metadata": {},
   "source": [
    "## 2. Formatting (Remove emoji, spaces & Replace punctuations)"
   ]
  },
  {
   "cell_type": "code",
   "execution_count": 17,
   "id": "32be6a03",
   "metadata": {},
   "outputs": [],
   "source": [
    "# Define the file paths to modify\n",
    "txt_paths = ['../data/review/reviews_1.txt', '../data/review/reviews_2.txt', '../data/review/reviews_3.txt', '../data/review/reviews_4.txt']\n",
    "\n",
    "# Define a string of all punctuation marks\n",
    "all_punct = string.punctuation + '，。？！：；（）“”‘’【】『』《》〈〉·—…～、｜「」'\n",
    "\n",
    "# Define regular expression matching pattern\n",
    "pattern = re.compile(',+')\n",
    "\n",
    "# Loop over each file and modify its contents\n",
    "for txt_path in txt_paths:\n",
    "    # Open the file for reading\n",
    "    with open(txt_path, 'r') as file:\n",
    "        # Read the contents of the file and replace all punctuation marks with commas\n",
    "        contents = file.read().translate(str.maketrans(all_punct, ',' * len(all_punct)))\n",
    "        \n",
    "        # Remove all emoji symbols\n",
    "        contents = re.sub(r'\\p{Emoji}', '', contents)\n",
    "        \n",
    "        # Replacing consecutive commas\n",
    "        contents = re.sub(pattern, ',', contents)\n",
    "        \n",
    "        # Remove trailing commas from each line\n",
    "        contents = '\\n'.join(line.rstrip(',') for line in contents.split('\\n'))\n",
    "        \n",
    "    # Open the file for writing\n",
    "    with open(txt_path, 'w') as file:\n",
    "        # Write the modified contents to the file\n",
    "        file.write(contents)\n"
   ]
  },
  {
   "cell_type": "markdown",
   "id": "9bda8013",
   "metadata": {},
   "source": [
    "## 3. Merge into a new txt"
   ]
  },
  {
   "cell_type": "code",
   "execution_count": 18,
   "id": "4ee4815f",
   "metadata": {},
   "outputs": [],
   "source": [
    "# Define the file paths to read from\n",
    "txt_paths = ['../data/review/reviews_1.txt', '../data/review/reviews_2.txt', '../data/review/reviews_3.txt', '../data/review/reviews_4.txt']\n",
    "\n",
    "# Define the path for the output merged text file\n",
    "merged_txt_path = '../data/review/reviews_merged.txt'\n",
    "\n",
    "# Open the output file for writing\n",
    "with open(merged_txt_path, 'w', newline='\\n') as merged_file:\n",
    "    # Loop over each input file\n",
    "    for txt_path in txt_paths:\n",
    "        # Open the input file for reading\n",
    "        with open(txt_path, 'r', newline='') as input_file:\n",
    "            # Loop over each line in the input file\n",
    "            for line in input_file:\n",
    "                # Write the line to the output file\n",
    "                merged_file.write(line.rstrip('\\r\\n') + '\\n')\n"
   ]
  },
  {
   "cell_type": "markdown",
   "id": "1600e4ba",
   "metadata": {},
   "source": [
    "### Read into dataframe to validate"
   ]
  },
  {
   "cell_type": "code",
   "execution_count": 19,
   "id": "ac15f508",
   "metadata": {
    "scrolled": false
   },
   "outputs": [
    {
     "data": {
      "text/html": [
       "<div>\n",
       "<style scoped>\n",
       "    .dataframe tbody tr th:only-of-type {\n",
       "        vertical-align: middle;\n",
       "    }\n",
       "\n",
       "    .dataframe tbody tr th {\n",
       "        vertical-align: top;\n",
       "    }\n",
       "\n",
       "    .dataframe thead th {\n",
       "        text-align: right;\n",
       "    }\n",
       "</style>\n",
       "<table border=\"1\" class=\"dataframe\">\n",
       "  <thead>\n",
       "    <tr style=\"text-align: right;\">\n",
       "      <th></th>\n",
       "      <th>review</th>\n",
       "    </tr>\n",
       "  </thead>\n",
       "  <tbody>\n",
       "    <tr>\n",
       "      <th>0</th>\n",
       "      <td>特别赞的一家商场,在王府井这个商场云集和大牌云集的地方,apm商场算是人气特别高的了,交通,...</td>\n",
       "    </tr>\n",
       "    <tr>\n",
       "      <th>1</th>\n",
       "      <td>LINLEE在王府井apm也开新店了,超级喜欢他们家的口味,和朋友逛街无意看到的,果断去买一...</td>\n",
       "    </tr>\n",
       "    <tr>\n",
       "      <th>2</th>\n",
       "      <td>北京apm,东城区商场热门榜第一名️,王府井大街号,环境,商场环境干净整齐,布局分明,美食购...</td>\n",
       "    </tr>\n",
       "    <tr>\n",
       "      <th>3</th>\n",
       "      <td>一定要错过下午点半以后,不然吃饭只能排队等半个小时,而且拿到号了一定别因为还有十几桌就走开,...</td>\n",
       "    </tr>\n",
       "    <tr>\n",
       "      <th>4</th>\n",
       "      <td>花,Young的年华,年️日,月日,北京apm首层中庭,迎来位艺术家作品联展,春意盎然的️,...</td>\n",
       "    </tr>\n",
       "  </tbody>\n",
       "</table>\n",
       "</div>"
      ],
      "text/plain": [
       "                                              review\n",
       "0  特别赞的一家商场,在王府井这个商场云集和大牌云集的地方,apm商场算是人气特别高的了,交通,...\n",
       "1  LINLEE在王府井apm也开新店了,超级喜欢他们家的口味,和朋友逛街无意看到的,果断去买一...\n",
       "2  北京apm,东城区商场热门榜第一名️,王府井大街号,环境,商场环境干净整齐,布局分明,美食购...\n",
       "3  一定要错过下午点半以后,不然吃饭只能排队等半个小时,而且拿到号了一定别因为还有十几桌就走开,...\n",
       "4  花,Young的年华,年️日,月日,北京apm首层中庭,迎来位艺术家作品联展,春意盎然的️,..."
      ]
     },
     "execution_count": 19,
     "metadata": {},
     "output_type": "execute_result"
    }
   ],
   "source": [
    "# Define the path to the merged text file\n",
    "merged_txt_path = '../data/review/reviews_merged.txt'\n",
    "\n",
    "# Read the merged text file into a DataFrame\n",
    "df = pd.read_csv(merged_txt_path, delimiter='\\t', names=['review'])\n",
    "\n",
    "# Print the DataFrame\n",
    "df.head(5)"
   ]
  },
  {
   "cell_type": "markdown",
   "id": "42b35749",
   "metadata": {},
   "source": [
    "## 4. Convert to csv file for storage"
   ]
  },
  {
   "cell_type": "code",
   "execution_count": 20,
   "id": "7fd2bb42",
   "metadata": {},
   "outputs": [],
   "source": [
    "# Define the list of txt file paths that need to be converted\n",
    "txt_paths = ['../data/review/reviews_1.txt', '../data/review/reviews_2.txt', '../data/review/reviews_3.txt', '../data/review/reviews_4.txt', '../data/review/reviews_merged.txt']\n",
    "\n",
    "# Loop through each txt file and convert it to a csv file\n",
    "for txt_path in txt_paths:\n",
    "    # Generate the corresponding csv file path\n",
    "    csv_path = txt_path.replace('.txt', '.csv')\n",
    "    \n",
    "    # Open the txt file and csv file\n",
    "    with open(txt_path, 'r', encoding='utf-8') as f_txt, open(csv_path, 'w', encoding='utf-8', newline='') as f_csv:\n",
    "        # Create a csv.writer object to write data to the csv file\n",
    "        writer = csv.writer(f_csv)\n",
    "        \n",
    "        # Write the header row\n",
    "        writer.writerow(['review'])\n",
    "        \n",
    "        # Read each line in the txt file and write it to the csv file\n",
    "        for line in f_txt:\n",
    "            # Wrap each line of data in a list to represent a row of data in the csv file\n",
    "            writer.writerow([line.strip()])\n",
    "\n"
   ]
  },
  {
   "cell_type": "markdown",
   "id": "866bbc85",
   "metadata": {},
   "source": [
    "## 5. Splitting"
   ]
  },
  {
   "cell_type": "markdown",
   "id": "67ce4203",
   "metadata": {},
   "source": [
    "### Custom stopwords dictionary（two different versions）"
   ]
  },
  {
   "cell_type": "code",
   "execution_count": 21,
   "id": "96cb12db",
   "metadata": {},
   "outputs": [],
   "source": [
    "# Define a list of file paths for the stop word files\n",
    "stopword_paths = ['stopwords/source/hit_stopwords.txt', 'stopwords/source/scu_stopwords.txt', 'stopwords/source/baidu_stopwords.txt', 'stopwords/source/cn_stopwords.txt']\n",
    "\n",
    "# Read all stop words into a single list\n",
    "stopwords = []\n",
    "for path in stopword_paths:\n",
    "    with open(path, 'r', encoding='utf-8') as f:\n",
    "        # Read each line in the file, strip whitespace, and add the resulting words to the list\n",
    "        words = [w.strip() for w in f.readlines()]\n",
    "        stopwords.extend(words)\n",
    "\n",
    "# Remove duplicate stop words\n",
    "stopwords = list(set(stopwords))\n",
    "\n",
    "# Write all stop words to a file\n",
    "with open('stopwords/stopwords.txt', 'w', encoding='utf-8') as f:\n",
    "    # Join the stop words into a single string separated by newlines, and write to the file\n",
    "    f.write('\\n'.join(stopwords))\n",
    "\n",
    "# Read adverb words from file\n",
    "adv_path = 'sentiment_dic/adv_dic.txt'\n",
    "with open(adv_path, 'r', encoding='utf-8') as f:\n",
    "    adverbs = [w.strip() for w in f.readlines()]\n",
    "\n",
    "# Remove adverb words from stopwords\n",
    "stopwords = [w for w in stopwords if w not in adverbs]\n",
    "\n",
    "# Read negative words from file\n",
    "neg_path = 'sentiment_dic/negative_dic.txt'\n",
    "with open(neg_path, 'r', encoding='utf-8') as f:\n",
    "    negatives = [w.strip() for w in f.readlines()]\n",
    "\n",
    "# Remove negative words from stopwords\n",
    "stopwords = [w for w in stopwords if w not in negatives]\n",
    "\n",
    "# Sort the stop words alphabetically\n",
    "stopwords.sort()\n",
    "\n",
    "# Write modified stop words to a file\n",
    "with open('stopwords/stopwords_pro.txt', 'w', encoding='utf-8') as f:\n",
    "    # Join the stop words into a single string separated by newlines, and write to the file\n",
    "    f.write('\\n'.join(stopwords))\n"
   ]
  },
  {
   "cell_type": "markdown",
   "id": "a9dc630d",
   "metadata": {},
   "source": [
    "### Split word processing"
   ]
  },
  {
   "cell_type": "code",
   "execution_count": 22,
   "id": "070f73dc",
   "metadata": {},
   "outputs": [],
   "source": [
    "# Define the file paths to read from and write to\n",
    "input_file_paths = ['../data/review/reviews_1.txt', '../data/review/reviews_2.txt', '../data/review/reviews_3.txt', '../data/review/reviews_4.txt']\n",
    "output_directory = '../data/review/processed/'\n",
    "\n",
    "# Set the file path for the stop words\n",
    "stopword_path = 'stopwords/stopwords_pro.txt'\n",
    "\n",
    "# Create a set of stop words by opening the file and using a set comprehension\n",
    "with open(stopword_path, 'r', encoding='utf-8') as f:\n",
    "    stopwords = {word.strip() for word in f}\n",
    "\n",
    "# Load the custom dictionary\n",
    "custom_dict_path = 'stopwords/custom_dict.txt'\n",
    "jieba.load_userdict(custom_dict_path)\n",
    "\n",
    "# Define a function to process each review text\n",
    "def process_text(text):\n",
    "    # Tokenize the text with Jieba and enable HMM\n",
    "    tokens = jieba.cut(text, cut_all=False, HMM=True)\n",
    "    # Remove stop words and punctuation\n",
    "    tokens = [token for token in tokens if token not in stopwords and token.strip() and not token.isnumeric()]\n",
    "    # Return the processed text as a string\n",
    "    return ' '.join(tokens)\n",
    "\n",
    "# Loop over each file, process the review text and save it to a new text file\n",
    "for input_file_path in input_file_paths:\n",
    "    # Create the output file path\n",
    "    output_file_path = os.path.join(output_directory, os.path.basename(input_file_path))\n",
    "    # Open the input and output files\n",
    "    with open(input_file_path, 'r', encoding='utf-8') as input_file, open(output_file_path, 'w', encoding='utf-8') as output_file:\n",
    "        # Process each line of the input file\n",
    "        for line in input_file:\n",
    "            # Process the review text\n",
    "            processed_text = process_text(line.strip())\n",
    "            # Write the processed text to the output file\n",
    "            output_file.write(processed_text + '\\n')"
   ]
  }
 ],
 "metadata": {
  "kernelspec": {
   "display_name": "Datascience",
   "language": "python",
   "name": "datascience"
  },
  "language_info": {
   "codemirror_mode": {
    "name": "ipython",
    "version": 3
   },
   "file_extension": ".py",
   "mimetype": "text/x-python",
   "name": "python",
   "nbconvert_exporter": "python",
   "pygments_lexer": "ipython3",
   "version": "3.9.13"
  }
 },
 "nbformat": 4,
 "nbformat_minor": 5
}
