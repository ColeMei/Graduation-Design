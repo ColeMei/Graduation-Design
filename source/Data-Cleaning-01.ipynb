{
 "cells": [
  {
   "cell_type": "code",
   "execution_count": 1,
   "id": "a1139e22",
   "metadata": {},
   "outputs": [],
   "source": [
    "import pandas as pd\n",
    "import numpy as np"
   ]
  },
  {
   "cell_type": "code",
   "execution_count": 2,
   "id": "321f5710",
   "metadata": {},
   "outputs": [],
   "source": [
    "df1 = pd.read_csv('../data/original/beijing_apm.csv')\n",
    "df2 = pd.read_csv('../data/original/wangfu_zhonghuan.csv')\n",
    "df3 = pd.read_csv('../data/original/wangfujing_baihuo.csv')\n",
    "df4 = pd.read_csv('../data/original/dongfang_xintiandi.csv')"
   ]
  },
  {
   "cell_type": "code",
   "execution_count": 3,
   "id": "e74bfaa1",
   "metadata": {},
   "outputs": [
    {
     "data": {
      "text/html": [
       "<div>\n",
       "<style scoped>\n",
       "    .dataframe tbody tr th:only-of-type {\n",
       "        vertical-align: middle;\n",
       "    }\n",
       "\n",
       "    .dataframe tbody tr th {\n",
       "        vertical-align: top;\n",
       "    }\n",
       "\n",
       "    .dataframe thead th {\n",
       "        text-align: right;\n",
       "    }\n",
       "</style>\n",
       "<table border=\"1\" class=\"dataframe\">\n",
       "  <thead>\n",
       "    <tr style=\"text-align: right;\">\n",
       "      <th></th>\n",
       "      <th>name</th>\n",
       "      <th>item</th>\n",
       "      <th>item 2</th>\n",
       "      <th>item 3</th>\n",
       "      <th>review-truncated-words</th>\n",
       "      <th>review-words</th>\n",
       "      <th>time</th>\n",
       "    </tr>\n",
       "  </thead>\n",
       "  <tbody>\n",
       "    <tr>\n",
       "      <th>0</th>\n",
       "      <td>牙大酥</td>\n",
       "      <td>设施：5.0</td>\n",
       "      <td>环境：5.0</td>\n",
       "      <td>服务：5.0</td>\n",
       "      <td>特别赞的一家商场，在王府井这个商场云集和大牌云集的地方，apm商场算是人气特别高的了。\\n交...</td>\n",
       "      <td>特别赞的一家商场，在王府井这个商场云集和大牌云集的地方，apm商场算是人气特别高的了。\\n交...</td>\n",
       "      <td>2023-04-17 23:12</td>\n",
       "    </tr>\n",
       "    <tr>\n",
       "      <th>1</th>\n",
       "      <td>磕磕绊绊</td>\n",
       "      <td>设施：5.0</td>\n",
       "      <td>环境：5.0</td>\n",
       "      <td>服务：5.0</td>\n",
       "      <td>LINLEE在王府井apm也开新店了，超级喜欢他们家的口味，和朋友逛街无意看到的，果断去买一...</td>\n",
       "      <td>LINLEE在王府井apm也开新店了，超级喜欢他们家的口味，和朋友逛街无意看到的，果断去买一...</td>\n",
       "      <td>2023-04-17 21:22</td>\n",
       "    </tr>\n",
       "    <tr>\n",
       "      <th>2</th>\n",
       "      <td>吃货阿浪</td>\n",
       "      <td>设施：5.0</td>\n",
       "      <td>环境：5.0</td>\n",
       "      <td>服务：5.0</td>\n",
       "      <td>北京apm \\n东城区商场热门榜第一名☝️🥇\\n王府井大街138号\\n环境：商场环境干净整齐...</td>\n",
       "      <td>北京apm \\n东城区商场热门榜第一名☝️🥇\\n王府井大街138号\\n环境：商场环境干净整齐...</td>\n",
       "      <td>2023-04-17 21:05</td>\n",
       "    </tr>\n",
       "  </tbody>\n",
       "</table>\n",
       "</div>"
      ],
      "text/plain": [
       "   name    item  item 2  item 3  \\\n",
       "0   牙大酥  设施：5.0  环境：5.0  服务：5.0   \n",
       "1  磕磕绊绊  设施：5.0  环境：5.0  服务：5.0   \n",
       "2  吃货阿浪  设施：5.0  环境：5.0  服务：5.0   \n",
       "\n",
       "                              review-truncated-words  \\\n",
       "0  特别赞的一家商场，在王府井这个商场云集和大牌云集的地方，apm商场算是人气特别高的了。\\n交...   \n",
       "1  LINLEE在王府井apm也开新店了，超级喜欢他们家的口味，和朋友逛街无意看到的，果断去买一...   \n",
       "2  北京apm \\n东城区商场热门榜第一名☝️🥇\\n王府井大街138号\\n环境：商场环境干净整齐...   \n",
       "\n",
       "                                        review-words              time  \n",
       "0  特别赞的一家商场，在王府井这个商场云集和大牌云集的地方，apm商场算是人气特别高的了。\\n交...  2023-04-17 23:12  \n",
       "1  LINLEE在王府井apm也开新店了，超级喜欢他们家的口味，和朋友逛街无意看到的，果断去买一...  2023-04-17 21:22  \n",
       "2  北京apm \\n东城区商场热门榜第一名☝️🥇\\n王府井大街138号\\n环境：商场环境干净整齐...  2023-04-17 21:05  "
      ]
     },
     "execution_count": 3,
     "metadata": {},
     "output_type": "execute_result"
    }
   ],
   "source": [
    "df1.head(3)"
   ]
  },
  {
   "cell_type": "markdown",
   "id": "f21cc744",
   "metadata": {},
   "source": [
    "## Add 'from' column"
   ]
  },
  {
   "cell_type": "code",
   "execution_count": 4,
   "id": "37b69e3b",
   "metadata": {},
   "outputs": [],
   "source": [
    "df1.insert(df1.shape[1], 'from', '北京apm')\n",
    "df2.insert(df2.shape[1], 'from', '王府中環')\n",
    "df3.insert(df3.shape[1], 'from', '王府井百货')\n",
    "df4.insert(df4.shape[1], 'from', '东方新天地')"
   ]
  },
  {
   "cell_type": "markdown",
   "id": "9607a094",
   "metadata": {},
   "source": [
    "## Concat and Merge the Data"
   ]
  },
  {
   "cell_type": "code",
   "execution_count": 5,
   "id": "fdf5e9f1",
   "metadata": {},
   "outputs": [],
   "source": [
    "dfs = [df1,df2,df3,df4]\n",
    "new_df = pd.concat(dfs, axis=0, ignore_index=True)"
   ]
  },
  {
   "cell_type": "code",
   "execution_count": 6,
   "id": "b5cfac36",
   "metadata": {},
   "outputs": [
    {
     "data": {
      "text/html": [
       "<div>\n",
       "<style scoped>\n",
       "    .dataframe tbody tr th:only-of-type {\n",
       "        vertical-align: middle;\n",
       "    }\n",
       "\n",
       "    .dataframe tbody tr th {\n",
       "        vertical-align: top;\n",
       "    }\n",
       "\n",
       "    .dataframe thead th {\n",
       "        text-align: right;\n",
       "    }\n",
       "</style>\n",
       "<table border=\"1\" class=\"dataframe\">\n",
       "  <thead>\n",
       "    <tr style=\"text-align: right;\">\n",
       "      <th></th>\n",
       "      <th>name</th>\n",
       "      <th>item</th>\n",
       "      <th>item 2</th>\n",
       "      <th>item 3</th>\n",
       "      <th>review-truncated-words</th>\n",
       "      <th>review-words</th>\n",
       "      <th>time</th>\n",
       "      <th>from</th>\n",
       "    </tr>\n",
       "  </thead>\n",
       "  <tbody>\n",
       "    <tr>\n",
       "      <th>0</th>\n",
       "      <td>牙大酥</td>\n",
       "      <td>设施：5.0</td>\n",
       "      <td>环境：5.0</td>\n",
       "      <td>服务：5.0</td>\n",
       "      <td>特别赞的一家商场，在王府井这个商场云集和大牌云集的地方，apm商场算是人气特别高的了。\\n交...</td>\n",
       "      <td>特别赞的一家商场，在王府井这个商场云集和大牌云集的地方，apm商场算是人气特别高的了。\\n交...</td>\n",
       "      <td>2023-04-17 23:12</td>\n",
       "      <td>北京apm</td>\n",
       "    </tr>\n",
       "    <tr>\n",
       "      <th>1</th>\n",
       "      <td>磕磕绊绊</td>\n",
       "      <td>设施：5.0</td>\n",
       "      <td>环境：5.0</td>\n",
       "      <td>服务：5.0</td>\n",
       "      <td>LINLEE在王府井apm也开新店了，超级喜欢他们家的口味，和朋友逛街无意看到的，果断去买一...</td>\n",
       "      <td>LINLEE在王府井apm也开新店了，超级喜欢他们家的口味，和朋友逛街无意看到的，果断去买一...</td>\n",
       "      <td>2023-04-17 21:22</td>\n",
       "      <td>北京apm</td>\n",
       "    </tr>\n",
       "    <tr>\n",
       "      <th>2</th>\n",
       "      <td>吃货阿浪</td>\n",
       "      <td>设施：5.0</td>\n",
       "      <td>环境：5.0</td>\n",
       "      <td>服务：5.0</td>\n",
       "      <td>北京apm \\n东城区商场热门榜第一名☝️🥇\\n王府井大街138号\\n环境：商场环境干净整齐...</td>\n",
       "      <td>北京apm \\n东城区商场热门榜第一名☝️🥇\\n王府井大街138号\\n环境：商场环境干净整齐...</td>\n",
       "      <td>2023-04-17 21:05</td>\n",
       "      <td>北京apm</td>\n",
       "    </tr>\n",
       "  </tbody>\n",
       "</table>\n",
       "</div>"
      ],
      "text/plain": [
       "   name    item  item 2  item 3  \\\n",
       "0   牙大酥  设施：5.0  环境：5.0  服务：5.0   \n",
       "1  磕磕绊绊  设施：5.0  环境：5.0  服务：5.0   \n",
       "2  吃货阿浪  设施：5.0  环境：5.0  服务：5.0   \n",
       "\n",
       "                              review-truncated-words  \\\n",
       "0  特别赞的一家商场，在王府井这个商场云集和大牌云集的地方，apm商场算是人气特别高的了。\\n交...   \n",
       "1  LINLEE在王府井apm也开新店了，超级喜欢他们家的口味，和朋友逛街无意看到的，果断去买一...   \n",
       "2  北京apm \\n东城区商场热门榜第一名☝️🥇\\n王府井大街138号\\n环境：商场环境干净整齐...   \n",
       "\n",
       "                                        review-words              time   from  \n",
       "0  特别赞的一家商场，在王府井这个商场云集和大牌云集的地方，apm商场算是人气特别高的了。\\n交...  2023-04-17 23:12  北京apm  \n",
       "1  LINLEE在王府井apm也开新店了，超级喜欢他们家的口味，和朋友逛街无意看到的，果断去买一...  2023-04-17 21:22  北京apm  \n",
       "2  北京apm \\n东城区商场热门榜第一名☝️🥇\\n王府井大街138号\\n环境：商场环境干净整齐...  2023-04-17 21:05  北京apm  "
      ]
     },
     "execution_count": 6,
     "metadata": {},
     "output_type": "execute_result"
    }
   ],
   "source": [
    "new_df.head(3)"
   ]
  },
  {
   "cell_type": "markdown",
   "id": "36027f86",
   "metadata": {},
   "source": [
    "## Drop and Rename Columns"
   ]
  },
  {
   "cell_type": "code",
   "execution_count": 7,
   "id": "ae651593",
   "metadata": {},
   "outputs": [],
   "source": [
    "new_df.drop(labels='review-truncated-words', axis=1, inplace=True)"
   ]
  },
  {
   "cell_type": "code",
   "execution_count": 8,
   "id": "2befeb0c",
   "metadata": {},
   "outputs": [],
   "source": [
    "new_df.columns = [\n",
    "    \"user_name\",\n",
    "    \"facs_score\",\n",
    "    \"envr_score\",\n",
    "    \"serv_score\",\n",
    "    \"review\",\n",
    "    \"time\",\n",
    "    \"from\"\n",
    "]"
   ]
  },
  {
   "cell_type": "code",
   "execution_count": 13,
   "id": "9a4ca9eb",
   "metadata": {
    "scrolled": false
   },
   "outputs": [
    {
     "data": {
      "text/html": [
       "<div>\n",
       "<style scoped>\n",
       "    .dataframe tbody tr th:only-of-type {\n",
       "        vertical-align: middle;\n",
       "    }\n",
       "\n",
       "    .dataframe tbody tr th {\n",
       "        vertical-align: top;\n",
       "    }\n",
       "\n",
       "    .dataframe thead th {\n",
       "        text-align: right;\n",
       "    }\n",
       "</style>\n",
       "<table border=\"1\" class=\"dataframe\">\n",
       "  <thead>\n",
       "    <tr style=\"text-align: right;\">\n",
       "      <th></th>\n",
       "      <th>user_name</th>\n",
       "      <th>facs_score</th>\n",
       "      <th>envr_score</th>\n",
       "      <th>serv_score</th>\n",
       "      <th>review</th>\n",
       "      <th>time</th>\n",
       "      <th>from</th>\n",
       "    </tr>\n",
       "  </thead>\n",
       "  <tbody>\n",
       "    <tr>\n",
       "      <th>0</th>\n",
       "      <td>牙大酥</td>\n",
       "      <td>设施：5.0</td>\n",
       "      <td>环境：5.0</td>\n",
       "      <td>服务：5.0</td>\n",
       "      <td>特别赞的一家商场，在王府井这个商场云集和大牌云集的地方，apm商场算是人气特别高的了。\\n交...</td>\n",
       "      <td>2023-04-17 23:12</td>\n",
       "      <td>北京apm</td>\n",
       "    </tr>\n",
       "    <tr>\n",
       "      <th>1</th>\n",
       "      <td>磕磕绊绊</td>\n",
       "      <td>设施：5.0</td>\n",
       "      <td>环境：5.0</td>\n",
       "      <td>服务：5.0</td>\n",
       "      <td>LINLEE在王府井apm也开新店了，超级喜欢他们家的口味，和朋友逛街无意看到的，果断去买一...</td>\n",
       "      <td>2023-04-17 21:22</td>\n",
       "      <td>北京apm</td>\n",
       "    </tr>\n",
       "    <tr>\n",
       "      <th>2</th>\n",
       "      <td>吃货阿浪</td>\n",
       "      <td>设施：5.0</td>\n",
       "      <td>环境：5.0</td>\n",
       "      <td>服务：5.0</td>\n",
       "      <td>北京apm \\n东城区商场热门榜第一名☝️🥇\\n王府井大街138号\\n环境：商场环境干净整齐...</td>\n",
       "      <td>2023-04-17 21:05</td>\n",
       "      <td>北京apm</td>\n",
       "    </tr>\n",
       "  </tbody>\n",
       "</table>\n",
       "</div>"
      ],
      "text/plain": [
       "  user_name facs_score envr_score serv_score  \\\n",
       "0       牙大酥     设施：5.0     环境：5.0     服务：5.0   \n",
       "1      磕磕绊绊     设施：5.0     环境：5.0     服务：5.0   \n",
       "2      吃货阿浪     设施：5.0     环境：5.0     服务：5.0   \n",
       "\n",
       "                                              review              time   from  \n",
       "0  特别赞的一家商场，在王府井这个商场云集和大牌云集的地方，apm商场算是人气特别高的了。\\n交...  2023-04-17 23:12  北京apm  \n",
       "1  LINLEE在王府井apm也开新店了，超级喜欢他们家的口味，和朋友逛街无意看到的，果断去买一...  2023-04-17 21:22  北京apm  \n",
       "2  北京apm \\n东城区商场热门榜第一名☝️🥇\\n王府井大街138号\\n环境：商场环境干净整齐...  2023-04-17 21:05  北京apm  "
      ]
     },
     "execution_count": 13,
     "metadata": {},
     "output_type": "execute_result"
    }
   ],
   "source": [
    "new_df.head(3)"
   ]
  },
  {
   "cell_type": "markdown",
   "id": "ee54e30e",
   "metadata": {},
   "source": [
    "## Check for NaN Values"
   ]
  },
  {
   "cell_type": "code",
   "execution_count": 10,
   "id": "3caa52f9",
   "metadata": {},
   "outputs": [
    {
     "data": {
      "text/plain": [
       "user_name     False\n",
       "facs_score    False\n",
       "envr_score    False\n",
       "serv_score    False\n",
       "review        False\n",
       "time          False\n",
       "from          False\n",
       "dtype: bool"
      ]
     },
     "execution_count": 10,
     "metadata": {},
     "output_type": "execute_result"
    }
   ],
   "source": [
    "new_df.isnull().any()"
   ]
  },
  {
   "cell_type": "code",
   "execution_count": 11,
   "id": "981c1c36",
   "metadata": {
    "scrolled": true
   },
   "outputs": [
    {
     "data": {
      "text/plain": [
       "user_name     0\n",
       "facs_score    0\n",
       "envr_score    0\n",
       "serv_score    0\n",
       "review        0\n",
       "time          0\n",
       "from          0\n",
       "dtype: int64"
      ]
     },
     "execution_count": 11,
     "metadata": {},
     "output_type": "execute_result"
    }
   ],
   "source": [
    "new_df.isnull().sum()"
   ]
  },
  {
   "cell_type": "markdown",
   "id": "dec41ae4",
   "metadata": {},
   "source": [
    "## Save the new cleaned data"
   ]
  },
  {
   "cell_type": "code",
   "execution_count": 12,
   "id": "e049064d",
   "metadata": {},
   "outputs": [],
   "source": [
    "new_df.to_csv('../data/stores.csv', encoding='utf-8', index=False)"
   ]
  }
 ],
 "metadata": {
  "kernelspec": {
   "display_name": "Datascience",
   "language": "python",
   "name": "datascience"
  },
  "language_info": {
   "codemirror_mode": {
    "name": "ipython",
    "version": 3
   },
   "file_extension": ".py",
   "mimetype": "text/x-python",
   "name": "python",
   "nbconvert_exporter": "python",
   "pygments_lexer": "ipython3",
   "version": "3.9.13"
  }
 },
 "nbformat": 4,
 "nbformat_minor": 5
}
