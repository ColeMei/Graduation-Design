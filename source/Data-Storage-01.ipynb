{
 "cells": [
  {
   "cell_type": "code",
   "execution_count": 1,
   "id": "b0e54f0d",
   "metadata": {},
   "outputs": [],
   "source": [
    "import pandas as pd\n",
    "import sqlite3\n",
    "import os"
   ]
  },
  {
   "cell_type": "markdown",
   "id": "24cd2782",
   "metadata": {},
   "source": [
    "## 1. Store the data in SQLite"
   ]
  },
  {
   "cell_type": "code",
   "execution_count": 2,
   "id": "c53aeb27",
   "metadata": {},
   "outputs": [],
   "source": [
    "# Get the current working directory path\n",
    "dir_path = %pwd\n",
    "\n",
    "# Connect to the SQLite database\n",
    "conn = sqlite3.connect('../warehouse/stores.db')\n",
    "\n",
    "# Define the correspondence between file names and table names\n",
    "file_table_dict = {\n",
    "    '../data/stores_clean.csv': '王府井商圈', \n",
    "    '../data/北京apm.csv': '北京apm',\n",
    "    '../data/王府中環.csv': '王府中環',\n",
    "    '../data/王府井百货.csv': '王府井百货',\n",
    "    '../data/东方新天地.csv': '东方新天地'\n",
    "}\n",
    "\n",
    "# Loop through all CSV files\n",
    "for filename, table_name in file_table_dict.items():\n",
    "    # Get the absolute path of the file\n",
    "    file_path = os.path.join(dir_path, filename)\n",
    "\n",
    "    # Read the CSV file and store it in the SQLite database\n",
    "    df = pd.read_csv(file_path)\n",
    "    df.to_sql(table_name, conn, if_exists='replace', index=False)\n",
    "\n",
    "# Close the connection\n",
    "conn.close()\n"
   ]
  },
  {
   "cell_type": "markdown",
   "id": "c5df2dc4",
   "metadata": {},
   "source": [
    "## 2. Print the names of all tables"
   ]
  },
  {
   "cell_type": "code",
   "execution_count": 3,
   "id": "52a841af",
   "metadata": {},
   "outputs": [
    {
     "name": "stdout",
     "output_type": "stream",
     "text": [
      "['王府井商圈', '北京apm', '王府中環', '王府井百货', '东方新天地']\n"
     ]
    }
   ],
   "source": [
    "# Connect to SQLite database\n",
    "conn = sqlite3.connect('../warehouse/stores.db')\n",
    "\n",
    "# Get the names of all tables\n",
    "cursor = conn.execute(\"SELECT name FROM sqlite_master WHERE type='table';\")\n",
    "tables = [row[0] for row in cursor.fetchall()]\n",
    "\n",
    "# Print the names of all tables\n",
    "print(tables)\n",
    "\n",
    "# Close the connection\n",
    "conn.close()\n"
   ]
  },
  {
   "cell_type": "markdown",
   "id": "11676884",
   "metadata": {},
   "source": [
    "## 3. Count valid data collected for each store"
   ]
  },
  {
   "cell_type": "code",
   "execution_count": 4,
   "id": "9b8ac22c",
   "metadata": {},
   "outputs": [
    {
     "name": "stdout",
     "output_type": "stream",
     "text": [
      "There are 10484 rows in table '王府井商圈'.\n",
      "There are 4258 rows in table '北京apm'.\n",
      "There are 3171 rows in table '王府中環'.\n",
      "There are 1787 rows in table '王府井百货'.\n",
      "There are 1268 rows in table '东方新天地'.\n"
     ]
    }
   ],
   "source": [
    "# Connect to SQLite database\n",
    "conn = sqlite3.connect('../warehouse/stores.db')\n",
    "\n",
    "# Define the query statement\n",
    "query = 'SELECT COUNT(*) FROM {}'\n",
    "\n",
    "# Iterate over all tables and print the number of rows\n",
    "for table_name in ['王府井商圈', '北京apm', '王府中環', '王府井百货', '东方新天地']:\n",
    "    # Execute the query and get the result\n",
    "    result = conn.execute(query.format(table_name)).fetchone()\n",
    "    row_count = result[0]\n",
    "\n",
    "    # Print the result\n",
    "    print(f\"There are {row_count} rows in table '{table_name}'.\")\n",
    "\n",
    "# Close the connection\n",
    "conn.close()"
   ]
  }
 ],
 "metadata": {
  "kernelspec": {
   "display_name": "Datascience",
   "language": "python",
   "name": "datascience"
  },
  "language_info": {
   "codemirror_mode": {
    "name": "ipython",
    "version": 3
   },
   "file_extension": ".py",
   "mimetype": "text/x-python",
   "name": "python",
   "nbconvert_exporter": "python",
   "pygments_lexer": "ipython3",
   "version": "3.9.13"
  }
 },
 "nbformat": 4,
 "nbformat_minor": 5
}
