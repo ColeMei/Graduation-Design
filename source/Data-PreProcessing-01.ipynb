{
 "cells": [
  {
   "cell_type": "code",
   "execution_count": 1,
   "id": "61b67bb5",
   "metadata": {},
   "outputs": [],
   "source": [
    "import pandas as pd\n",
    "import re\n",
    "import os\n",
    "import regex as re\n",
    "import string\n",
    "import csv"
   ]
  },
  {
   "cell_type": "markdown",
   "id": "574b7fe6",
   "metadata": {},
   "source": [
    "## 1. Extract the review data from csv and save it as txt"
   ]
  },
  {
   "cell_type": "code",
   "execution_count": 2,
   "id": "29a4e4a7",
   "metadata": {},
   "outputs": [],
   "source": [
    "# Define the file paths to read from\n",
    "file_paths = ['../data/北京apm.csv', '../data/王府中環.csv', '../data/王府井百货.csv', '../data/东方新天地.csv']\n",
    "\n",
    "# Loop over each file, extract the data from the 'review' column and save it to a text file\n",
    "for i, path in enumerate(file_paths):\n",
    "    # Read the CSV file\n",
    "    df = pd.read_csv(path, index_col=0)  # Set the index_col to 0 to use the first column as the index\n",
    "    # Define the path for the output text file\n",
    "    txt_path = f'../data/review/reviews_{i+1}.txt'\n",
    "    # Write the review data to the output text file\n",
    "    with open(txt_path, 'w') as f:\n",
    "        for j, review in enumerate(df['review']):\n",
    "            # Clean up the text data by removing special characters\n",
    "            review = re.sub('[\\n\\r\\t ]+', '', review)\n",
    "            # Write the review data to the output text file\n",
    "            f.write(str(review) + '\\n')"
   ]
  },
  {
   "cell_type": "markdown",
   "id": "19bb27d7",
   "metadata": {},
   "source": [
    "## 2. Formatting (Remove emoji, spaces & Replace punctuations)"
   ]
  },
  {
   "cell_type": "code",
   "execution_count": 3,
   "id": "32be6a03",
   "metadata": {},
   "outputs": [],
   "source": [
    "# Define the file paths to modify\n",
    "txt_paths = ['../data/review/reviews_1.txt', '../data/review/reviews_2.txt', '../data/review/reviews_3.txt', '../data/review/reviews_4.txt']\n",
    "\n",
    "# Define a string of all punctuation marks\n",
    "all_punct = string.punctuation + '，。？！：；（）“”‘’【】『』《》〈〉·—…～、｜「」'\n",
    "\n",
    "# Define regular expression matching pattern\n",
    "pattern = re.compile(',+')\n",
    "\n",
    "# Loop over each file and modify its contents\n",
    "for txt_path in txt_paths:\n",
    "    # Open the file for reading\n",
    "    with open(txt_path, 'r') as file:\n",
    "        # Read the contents of the file and replace all punctuation marks with commas\n",
    "        contents = file.read().translate(str.maketrans(all_punct, ',' * len(all_punct)))\n",
    "        \n",
    "        # Remove all emoji symbols\n",
    "        contents = re.sub(r'\\p{Emoji}', '', contents)\n",
    "        \n",
    "        # Replacing consecutive commas\n",
    "        contents = re.sub(pattern, ',', contents)\n",
    "        \n",
    "        # Remove trailing commas from each line\n",
    "        contents = '\\n'.join(line.rstrip(',') for line in contents.split('\\n'))\n",
    "        \n",
    "    # Open the file for writing\n",
    "    with open(txt_path, 'w') as file:\n",
    "        # Write the modified contents to the file\n",
    "        file.write(contents)\n"
   ]
  },
  {
   "cell_type": "markdown",
   "id": "9bda8013",
   "metadata": {},
   "source": [
    "## 3. Merge into a new txt"
   ]
  },
  {
   "cell_type": "code",
   "execution_count": 4,
   "id": "4ee4815f",
   "metadata": {},
   "outputs": [],
   "source": [
    "# Define the file paths to read from\n",
    "txt_paths = ['../data/review/reviews_1.txt', '../data/review/reviews_2.txt', '../data/review/reviews_3.txt', '../data/review/reviews_4.txt']\n",
    "\n",
    "# Define the path for the output merged text file\n",
    "merged_txt_path = '../data/review/reviews_merged.txt'\n",
    "\n",
    "# Open the output file for writing\n",
    "with open(merged_txt_path, 'w', newline='\\n') as merged_file:\n",
    "    # Loop over each input file\n",
    "    for txt_path in txt_paths:\n",
    "        # Open the input file for reading\n",
    "        with open(txt_path, 'r', newline='') as input_file:\n",
    "            # Loop over each line in the input file\n",
    "            for line in input_file:\n",
    "                # Write the line to the output file\n",
    "                merged_file.write(line.rstrip('\\r\\n') + '\\n')\n"
   ]
  },
  {
   "cell_type": "markdown",
   "id": "1600e4ba",
   "metadata": {},
   "source": [
    "### Read into dataframe to validate"
   ]
  },
  {
   "cell_type": "code",
   "execution_count": 5,
   "id": "ac15f508",
   "metadata": {
    "scrolled": true
   },
   "outputs": [
    {
     "data": {
      "text/html": [
       "<div>\n",
       "<style scoped>\n",
       "    .dataframe tbody tr th:only-of-type {\n",
       "        vertical-align: middle;\n",
       "    }\n",
       "\n",
       "    .dataframe tbody tr th {\n",
       "        vertical-align: top;\n",
       "    }\n",
       "\n",
       "    .dataframe thead th {\n",
       "        text-align: right;\n",
       "    }\n",
       "</style>\n",
       "<table border=\"1\" class=\"dataframe\">\n",
       "  <thead>\n",
       "    <tr style=\"text-align: right;\">\n",
       "      <th></th>\n",
       "      <th>review</th>\n",
       "    </tr>\n",
       "  </thead>\n",
       "  <tbody>\n",
       "    <tr>\n",
       "      <th>0</th>\n",
       "      <td>特别赞的一家商场,在王府井这个商场云集和大牌云集的地方,apm商场算是人气特别高的了,交通,...</td>\n",
       "    </tr>\n",
       "    <tr>\n",
       "      <th>1</th>\n",
       "      <td>LINLEE在王府井apm也开新店了,超级喜欢他们家的口味,和朋友逛街无意看到的,果断去买一...</td>\n",
       "    </tr>\n",
       "    <tr>\n",
       "      <th>2</th>\n",
       "      <td>北京apm,东城区商场热门榜第一名️,王府井大街号,环境,商场环境干净整齐,布局分明,美食购...</td>\n",
       "    </tr>\n",
       "    <tr>\n",
       "      <th>3</th>\n",
       "      <td>一定要错过下午点半以后,不然吃饭只能排队等半个小时,而且拿到号了一定别因为还有十几桌就走开,...</td>\n",
       "    </tr>\n",
       "    <tr>\n",
       "      <th>4</th>\n",
       "      <td>花,Young的年华,年️日,月日,北京apm首层中庭,迎来位艺术家作品联展,春意盎然的️,...</td>\n",
       "    </tr>\n",
       "    <tr>\n",
       "      <th>...</th>\n",
       "      <td>...</td>\n",
       "    </tr>\n",
       "    <tr>\n",
       "      <th>10479</th>\n",
       "      <td>商场好大,要不是朋友告诉我,穿过这个商场,就可以走到地铁</td>\n",
       "    </tr>\n",
       "    <tr>\n",
       "      <th>10480</th>\n",
       "      <td>年国庆成立年阅兵的时候这个商场刚刚开,那个时候这里全是高消费的地方,各种名牌荟聚,转眼已经多...</td>\n",
       "    </tr>\n",
       "    <tr>\n",
       "      <th>10481</th>\n",
       "      <td>很久没有来东方广场了,今天路过来看看,硬件保持的还是挺好的,里面加了好多珠宝品牌,珠宝什么时...</td>\n",
       "    </tr>\n",
       "    <tr>\n",
       "      <th>10482</th>\n",
       "      <td>嗨,就你,你快乐,新年到,马上就喜迎金鼠啦,现在在东方新天地,你可以遇到各种姿态的超萌的,跟...</td>\n",
       "    </tr>\n",
       "    <tr>\n",
       "      <th>10483</th>\n",
       "      <td>新年前夕的东方新天地被色彩斑斓的图案装饰着,充满着节日的喜庆气氛,明年是鼠年,广场里的图案卡...</td>\n",
       "    </tr>\n",
       "  </tbody>\n",
       "</table>\n",
       "<p>10484 rows × 1 columns</p>\n",
       "</div>"
      ],
      "text/plain": [
       "                                                  review\n",
       "0      特别赞的一家商场,在王府井这个商场云集和大牌云集的地方,apm商场算是人气特别高的了,交通,...\n",
       "1      LINLEE在王府井apm也开新店了,超级喜欢他们家的口味,和朋友逛街无意看到的,果断去买一...\n",
       "2      北京apm,东城区商场热门榜第一名️,王府井大街号,环境,商场环境干净整齐,布局分明,美食购...\n",
       "3      一定要错过下午点半以后,不然吃饭只能排队等半个小时,而且拿到号了一定别因为还有十几桌就走开,...\n",
       "4      花,Young的年华,年️日,月日,北京apm首层中庭,迎来位艺术家作品联展,春意盎然的️,...\n",
       "...                                                  ...\n",
       "10479                       商场好大,要不是朋友告诉我,穿过这个商场,就可以走到地铁\n",
       "10480  年国庆成立年阅兵的时候这个商场刚刚开,那个时候这里全是高消费的地方,各种名牌荟聚,转眼已经多...\n",
       "10481  很久没有来东方广场了,今天路过来看看,硬件保持的还是挺好的,里面加了好多珠宝品牌,珠宝什么时...\n",
       "10482  嗨,就你,你快乐,新年到,马上就喜迎金鼠啦,现在在东方新天地,你可以遇到各种姿态的超萌的,跟...\n",
       "10483  新年前夕的东方新天地被色彩斑斓的图案装饰着,充满着节日的喜庆气氛,明年是鼠年,广场里的图案卡...\n",
       "\n",
       "[10484 rows x 1 columns]"
      ]
     },
     "execution_count": 5,
     "metadata": {},
     "output_type": "execute_result"
    }
   ],
   "source": [
    "# Define the path to the merged text file\n",
    "merged_txt_path = '../data/review/reviews_merged.txt'\n",
    "\n",
    "# Read the merged text file into a DataFrame\n",
    "df = pd.read_csv(merged_txt_path, delimiter='\\t', names=['review'])\n",
    "\n",
    "# Print the DataFrame\n",
    "df"
   ]
  },
  {
   "cell_type": "markdown",
   "id": "42b35749",
   "metadata": {},
   "source": [
    "## 4. Convert to csv file for storage"
   ]
  },
  {
   "cell_type": "code",
   "execution_count": 6,
   "id": "7fd2bb42",
   "metadata": {},
   "outputs": [],
   "source": [
    "# Define the list of txt file paths that need to be converted\n",
    "txt_paths = ['../data/review/reviews_1.txt', '../data/review/reviews_2.txt', '../data/review/reviews_3.txt', '../data/review/reviews_4.txt', '../data/review/reviews_merged.txt']\n",
    "\n",
    "# Loop through each txt file and convert it to a csv file\n",
    "for txt_path in txt_paths:\n",
    "    # Generate the corresponding csv file path\n",
    "    csv_path = txt_path.replace('.txt', '.csv')\n",
    "    \n",
    "    # Open the txt file and csv file\n",
    "    with open(txt_path, 'r', encoding='utf-8') as f_txt, open(csv_path, 'w', encoding='utf-8', newline='') as f_csv:\n",
    "        # Create a csv.writer object to write data to the csv file\n",
    "        writer = csv.writer(f_csv)\n",
    "        \n",
    "        # Write the header row\n",
    "        writer.writerow(['review'])\n",
    "        \n",
    "        # Read each line in the txt file and write it to the csv file\n",
    "        for line in f_txt:\n",
    "            # Wrap each line of data in a list to represent a row of data in the csv file\n",
    "            writer.writerow([line.strip()])\n",
    "\n"
   ]
  },
  {
   "cell_type": "markdown",
   "id": "866bbc85",
   "metadata": {},
   "source": [
    "## 5. Remove stopwords"
   ]
  },
  {
   "cell_type": "code",
   "execution_count": 7,
   "id": "070f73dc",
   "metadata": {},
   "outputs": [],
   "source": [
    "# Define the file paths to read from and write to\n",
    "input_file_paths = ['../data/review/reviews_1.txt', '../data/review/reviews_2.txt', '../data/review/reviews_3.txt', '../data/review/reviews_4.txt']\n",
    "output_file_paths = ['../data/review/processed/processed_sw_1.txt', '../data/review/processed/processed_sw_2.txt', '../data/review/processed/processed_sw_3.txt', '../data/review/processed/processed_sw_4.txt']\n",
    "\n",
    "# Define the paths to your custom stop word dictionaries\n",
    "stopword_paths = ['stopwords/hit_stopwords.txt', 'stopwords/scu_stopwords.txt', 'stopwords/baidu_stopwords.txt', 'stopwords/cn_stopwords.txt']\n",
    "\n",
    "# Combine all stop word dictionaries into one set\n",
    "stopwords = set([word.strip() for path in stopword_paths for word in open(path, 'r', encoding='utf-8')])\n",
    "\n",
    "# Define a function to process each review text\n",
    "def process_text(text):\n",
    "    # Remove all emoji\n",
    "    text = re.sub(r'\\p{Emoji}', '', text)\n",
    "    # Remove all punctuation\n",
    "    text = re.sub(r'[^\\w\\s]+', '', text)\n",
    "    # Remove stop words\n",
    "    for word in stopwords:\n",
    "        text = text.replace(word, '')\n",
    "    # Return the processed text as a string\n",
    "    return text.strip()\n",
    "\n",
    "# Loop over each file, process the review text and save it to a new text file\n",
    "for i, input_file_path in enumerate(input_file_paths):\n",
    "    with open(input_file_path, 'r', encoding='utf-8') as input_file, open(output_file_paths[i], 'w', encoding='utf-8') as output_file:\n",
    "        for line in input_file:\n",
    "            # Process the review text\n",
    "            processed_text = process_text(line.strip())\n",
    "            # Write the processed text to the output file\n",
    "            output_file.write(processed_text + '\\n')"
   ]
  }
 ],
 "metadata": {
  "kernelspec": {
   "display_name": "Datascience",
   "language": "python",
   "name": "datascience"
  },
  "language_info": {
   "codemirror_mode": {
    "name": "ipython",
    "version": 3
   },
   "file_extension": ".py",
   "mimetype": "text/x-python",
   "name": "python",
   "nbconvert_exporter": "python",
   "pygments_lexer": "ipython3",
   "version": "3.9.13"
  }
 },
 "nbformat": 4,
 "nbformat_minor": 5
}
