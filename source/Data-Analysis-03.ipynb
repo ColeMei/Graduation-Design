{
 "cells": [
  {
   "cell_type": "markdown",
   "id": "54299530",
   "metadata": {},
   "source": [
    "# Part 3. Modeling and visual analysis of IPA model"
   ]
  },
  {
   "cell_type": "code",
   "execution_count": 1,
   "id": "be6d9f26",
   "metadata": {},
   "outputs": [],
   "source": [
    "import pandas as pd\n",
    "import matplotlib.pyplot as plt"
   ]
  },
  {
   "cell_type": "markdown",
   "id": "1faa6c39",
   "metadata": {},
   "source": [
    "## 1. Data preparation and collation"
   ]
  },
  {
   "cell_type": "code",
   "execution_count": 2,
   "id": "e91f3d60",
   "metadata": {},
   "outputs": [],
   "source": [
    "# Read the first CSV file\n",
    "path1 = \"../data/review/analysis/reviews_1.csv\"\n",
    "df1 = pd.read_csv(path1)\n",
    "\n",
    "# Read and concatenate other CSV files\n",
    "paths = [\n",
    "    \"../data/review/analysis/reviews_2.csv\",\n",
    "    \"../data/review/analysis/reviews_3.csv\",\n",
    "    \"../data/review/analysis/reviews_4.csv\"\n",
    "]\n",
    "dfs = [df1]  # Add the first DataFrame to the list\n",
    "\n",
    "for path in paths:\n",
    "    df = pd.read_csv(path)\n",
    "    dfs.append(df)  # Add each DataFrame to the list\n",
    "\n",
    "# Vertically concatenate all DataFrames\n",
    "merged_df = pd.concat(dfs, axis=0)\n",
    "\n",
    "# Save as a new CSV file\n",
    "output_path = \"../data/review/analysis/reviews_merged.csv\"\n",
    "merged_df.to_csv(output_path, index=False)"
   ]
  },
  {
   "cell_type": "code",
   "execution_count": 3,
   "id": "b899b020",
   "metadata": {},
   "outputs": [],
   "source": [
    "# Read the reviews_merged.csv and topic_assignments.csv files\n",
    "reviews_path = \"../data/review/analysis/reviews_merged.csv\"\n",
    "topics_path = \"../data/review/analysis/topics/topic_assignments.csv\"\n",
    "\n",
    "reviews_df = pd.read_csv(reviews_path)\n",
    "topics_df = pd.read_csv(topics_path)\n",
    "\n",
    "# Merge the DataFrames based on a common column\n",
    "merged_df = pd.merge(reviews_df, topics_df, on=\"review_splitting\")\n",
    "\n",
    "# Save as a new CSV file\n",
    "output_path = \"../data/review/analysis/reviews_merged_with_topics.csv\"\n",
    "merged_df.to_csv(output_path, index=False)"
   ]
  },
  {
   "cell_type": "markdown",
   "id": "38e1e71a",
   "metadata": {},
   "source": [
    "## 2. Data analysis (calculation of importance and satisfaction)"
   ]
  },
  {
   "cell_type": "code",
   "execution_count": 4,
   "id": "c3b9910f",
   "metadata": {
    "scrolled": false
   },
   "outputs": [
    {
     "data": {
      "text/html": [
       "<div>\n",
       "<style scoped>\n",
       "    .dataframe tbody tr th:only-of-type {\n",
       "        vertical-align: middle;\n",
       "    }\n",
       "\n",
       "    .dataframe tbody tr th {\n",
       "        vertical-align: top;\n",
       "    }\n",
       "\n",
       "    .dataframe thead th {\n",
       "        text-align: right;\n",
       "    }\n",
       "</style>\n",
       "<table border=\"1\" class=\"dataframe\">\n",
       "  <thead>\n",
       "    <tr style=\"text-align: right;\">\n",
       "      <th></th>\n",
       "      <th>review</th>\n",
       "      <th>review_splitting</th>\n",
       "      <th>senti_score</th>\n",
       "      <th>polarity</th>\n",
       "      <th>senti_score_snownlp</th>\n",
       "      <th>polarity_snownlp</th>\n",
       "      <th>topic</th>\n",
       "    </tr>\n",
       "  </thead>\n",
       "  <tbody>\n",
       "    <tr>\n",
       "      <th>0</th>\n",
       "      <td>特别赞的一家商场,在王府井这个商场云集和大牌云集的地方,apm商场算是人气特别高的了,交通,...</td>\n",
       "      <td>特别 赞 一家 商场 王府井 商场 云集 大牌 云集 地方 apm 商场 算是 人气 特别 ...</td>\n",
       "      <td>18.25</td>\n",
       "      <td>P</td>\n",
       "      <td>1.000000</td>\n",
       "      <td>P</td>\n",
       "      <td>1</td>\n",
       "    </tr>\n",
       "    <tr>\n",
       "      <th>1</th>\n",
       "      <td>LINLEE在王府井apm也开新店了,超级喜欢他们家的口味,和朋友逛街无意看到的,果断去买一...</td>\n",
       "      <td>LINLEE 王府井 apm 开 新店 超级 喜欢 家 口味 朋友 逛街 无意 果断 买 一...</td>\n",
       "      <td>10.30</td>\n",
       "      <td>P</td>\n",
       "      <td>1.000000</td>\n",
       "      <td>P</td>\n",
       "      <td>2</td>\n",
       "    </tr>\n",
       "    <tr>\n",
       "      <th>2</th>\n",
       "      <td>北京apm,东城区商场热门榜第一名️,王府井大街号,环境,商场环境干净整齐,布局分明,美食购...</td>\n",
       "      <td>北京 apm 东城区 商场 热门 榜 第一名 ️ 王府井大街 号 环境 商场 环境 干净 整...</td>\n",
       "      <td>4.00</td>\n",
       "      <td>P</td>\n",
       "      <td>0.999969</td>\n",
       "      <td>P</td>\n",
       "      <td>1</td>\n",
       "    </tr>\n",
       "  </tbody>\n",
       "</table>\n",
       "</div>"
      ],
      "text/plain": [
       "                                              review  \\\n",
       "0  特别赞的一家商场,在王府井这个商场云集和大牌云集的地方,apm商场算是人气特别高的了,交通,...   \n",
       "1  LINLEE在王府井apm也开新店了,超级喜欢他们家的口味,和朋友逛街无意看到的,果断去买一...   \n",
       "2  北京apm,东城区商场热门榜第一名️,王府井大街号,环境,商场环境干净整齐,布局分明,美食购...   \n",
       "\n",
       "                                    review_splitting  senti_score polarity  \\\n",
       "0  特别 赞 一家 商场 王府井 商场 云集 大牌 云集 地方 apm 商场 算是 人气 特别 ...        18.25        P   \n",
       "1  LINLEE 王府井 apm 开 新店 超级 喜欢 家 口味 朋友 逛街 无意 果断 买 一...        10.30        P   \n",
       "2  北京 apm 东城区 商场 热门 榜 第一名 ️ 王府井大街 号 环境 商场 环境 干净 整...         4.00        P   \n",
       "\n",
       "   senti_score_snownlp polarity_snownlp  topic  \n",
       "0             1.000000                P      1  \n",
       "1             1.000000                P      2  \n",
       "2             0.999969                P      1  "
      ]
     },
     "execution_count": 4,
     "metadata": {},
     "output_type": "execute_result"
    }
   ],
   "source": [
    "df = pd.read_csv(output_path)\n",
    "df.head(3)"
   ]
  },
  {
   "cell_type": "code",
   "execution_count": 5,
   "id": "ddd92a8b",
   "metadata": {},
   "outputs": [
    {
     "name": "stdout",
     "output_type": "stream",
     "text": [
      "polarity    I    N     P\n",
      "topic                   \n",
      "0          24   28   216\n",
      "1         522  663  4735\n",
      "2          27   34   230\n",
      "3          22   48   136\n",
      "4           3    6    44\n",
      "5           6    7    34\n",
      "6         412  590  2697\n"
     ]
    }
   ],
   "source": [
    "# Count the number of each polarity for each topic\n",
    "polarity_counts = df.groupby([\"topic\", \"polarity\"]).size()\n",
    "\n",
    "# Convert the counts into a tabular form\n",
    "table = polarity_counts.unstack()\n",
    "\n",
    "# Print an example of the result\n",
    "print(table)"
   ]
  },
  {
   "cell_type": "markdown",
   "id": "638f47f2",
   "metadata": {},
   "source": [
    "### Get the parameter : Importance"
   ]
  },
  {
   "cell_type": "code",
   "execution_count": 6,
   "id": "7c5d64a5",
   "metadata": {},
   "outputs": [
    {
     "name": "stdout",
     "output_type": "stream",
     "text": [
      "评论数量:\n",
      "1    5920\n",
      "6    3699\n",
      "2     291\n",
      "0     268\n",
      "3     206\n",
      "4      53\n",
      "5      47\n",
      "Name: topic, dtype: int64\n",
      "\n",
      "百分比:\n",
      "1    56.47%\n",
      "6    35.28%\n",
      "2     2.78%\n",
      "0     2.56%\n",
      "3     1.96%\n",
      "4     0.51%\n",
      "5     0.45%\n",
      "Name: topic, dtype: object\n"
     ]
    }
   ],
   "source": [
    "# Count the number of comments for each topic\n",
    "topic_counts = df[\"topic\"].value_counts()\n",
    "\n",
    "# Calculate the percentages\n",
    "total_count = len(df)\n",
    "topic_percentages = round(topic_counts / total_count * 100, 2)\n",
    "\n",
    "# Add the percentage sign\n",
    "topic_percentages_with_sign = topic_percentages.astype(str) + '%'\n",
    "\n",
    "# Print an example of the result\n",
    "print(\"评论数量:\")\n",
    "print(topic_counts)\n",
    "print(\"\\n百分比:\")\n",
    "print(topic_percentages_with_sign)"
   ]
  },
  {
   "cell_type": "markdown",
   "id": "72a60744",
   "metadata": {},
   "source": [
    "### Get the parameter : Performance"
   ]
  },
  {
   "cell_type": "code",
   "execution_count": 7,
   "id": "9da59a60",
   "metadata": {
    "scrolled": true
   },
   "outputs": [
    {
     "name": "stdout",
     "output_type": "stream",
     "text": [
      "topic\n",
      "0    3.780224\n",
      "1    4.717113\n",
      "2    4.477010\n",
      "3    2.398883\n",
      "4    4.243396\n",
      "5    3.454043\n",
      "6    3.495545\n",
      "Name: senti_score, dtype: float64\n"
     ]
    }
   ],
   "source": [
    "# Calculate the average sentiment scores by topic\n",
    "average_scores_by_topic = df.groupby(\"topic\")[\"senti_score\"].mean()\n",
    "\n",
    "# Print the average scores by topic\n",
    "print(average_scores_by_topic)"
   ]
  },
  {
   "cell_type": "markdown",
   "id": "db4858dd",
   "metadata": {},
   "source": [
    "### Get the table of importance and performance relationship of each topics"
   ]
  },
  {
   "cell_type": "code",
   "execution_count": 8,
   "id": "899c98d8",
   "metadata": {},
   "outputs": [
    {
     "name": "stdout",
     "output_type": "stream",
     "text": [
      "   Importance  Performance\n",
      "0        2.56     3.780224\n",
      "1       56.47     4.717113\n",
      "2        2.78     4.477010\n",
      "3        1.96     2.398883\n",
      "4        0.51     4.243396\n",
      "5        0.45     3.454043\n",
      "6       35.28     3.495545\n"
     ]
    }
   ],
   "source": [
    "# Convert the two Series objects to DataFrames\n",
    "df_topic_percentages = pd.DataFrame({\"Importance\": topic_percentages.values}, index=topic_percentages.index)\n",
    "df_average_scores = pd.DataFrame({\"Performance\": average_scores_by_topic.values}, index=average_scores_by_topic.index)\n",
    "\n",
    "# Horizontally concatenate the DataFrames\n",
    "df_merged = pd.concat([df_topic_percentages, df_average_scores], axis=1)\n",
    "\n",
    "# Print the merged DataFrame\n",
    "df_merged_sorted = df_merged.sort_index()\n",
    "print(df_merged_sorted)"
   ]
  },
  {
   "cell_type": "code",
   "execution_count": 9,
   "id": "4281a9c4",
   "metadata": {},
   "outputs": [
    {
     "data": {
      "image/png": "[encoded data removed]",
      "text/plain": [
       "<Figure size 640x480 with 1 Axes>"
      ]
     },
     "metadata": {},
     "output_type": "display_data"
    }
   ],
   "source": [
    "# Define the thresholds for the four quadrants\n",
    "importance_threshold = df_merged_sorted[\"Importance\"].median()\n",
    "performance_threshold = df_merged_sorted[\"Performance\"].median()\n",
    "\n",
    "# Create a scatter plot with four quadrants\n",
    "fig, ax = plt.subplots()\n",
    "\n",
    "# Plot the data points in the four quadrants\n",
    "for index, row in df_merged_sorted.iterrows():\n",
    "    importance = row[\"Importance\"]\n",
    "    performance = row[\"Performance\"]\n",
    "    label = index\n",
    "    \n",
    "    if importance >= importance_threshold and performance >= performance_threshold:\n",
    "        # Quadrant 1: High Importance, High Performance\n",
    "        ax.scatter(importance, performance, marker=\"o\", color=\"green\", label=label)\n",
    "    elif importance < importance_threshold and performance >= performance_threshold:\n",
    "        # Quadrant 2: Low Importance, High Performance\n",
    "        ax.scatter(importance, performance, marker=\"o\", color=\"blue\", label=label)\n",
    "    elif importance < importance_threshold and performance < performance_threshold:\n",
    "        # Quadrant 3: Low Importance, Low Performance\n",
    "        ax.scatter(importance, performance, marker=\"o\", color=\"red\", label=label)\n",
    "    else:\n",
    "        # Quadrant 4: High Importance, Low Performance\n",
    "        ax.scatter(importance, performance, marker=\"o\", color=\"orange\", label=label)\n",
    "    \n",
    "    # Add text labels to the data points\n",
    "    ax.annotate(index, (importance, performance), textcoords=\"offset points\", xytext=(0,-15), ha='center')\n",
    "\n",
    "# Plot the boundaries of the quadrants\n",
    "ax.axvline(x=importance_threshold, color=\"black\", linestyle=\"--\")\n",
    "ax.axhline(y=performance_threshold, color=\"black\", linestyle=\"--\")\n",
    "\n",
    "# Set the axis labels and title\n",
    "ax.set_xlabel(\"Importance\")\n",
    "ax.set_ylabel(\"Performance\")\n",
    "ax.set_title(\"Importance-Performance Analysis\")\n",
    "\n",
    "# Add a legend\n",
    "ax.legend()\n",
    "\n",
    "# Save the figure as a PNG file\n",
    "plt.savefig(\"../images/IPA_analysis.png\", dpi=300)\n",
    "\n",
    "# Show the plot\n",
    "plt.show()"
   ]
  }
 ],
 "metadata": {
  "kernelspec": {
   "display_name": "Datascience",
   "language": "python",
   "name": "datascience"
  },
  "language_info": {
   "codemirror_mode": {
    "name": "ipython",
    "version": 3
   },
   "file_extension": ".py",
   "mimetype": "text/x-python",
   "name": "python",
   "nbconvert_exporter": "python",
   "pygments_lexer": "ipython3",
   "version": "3.9.13"
  }
 },
 "nbformat": 4,
 "nbformat_minor": 5
}
