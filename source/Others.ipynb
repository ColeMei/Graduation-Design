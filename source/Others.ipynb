{
 "cells": [
  {
   "cell_type": "code",
   "execution_count": 1,
   "id": "43975152",
   "metadata": {},
   "outputs": [],
   "source": [
    "with open('sentiment_dic/nagtive_dic_2.txt', 'r') as f:  # 替换成实际的文件名\n",
    "    content = f.read().strip()  # 读取文件内容并去掉首尾空格\n",
    "words = content.split('、')  # 将内容按顿号分割成单独的单词，存入列表中\n",
    "\n",
    "with open('sentiment_dic/nagtive_dic_2.txt', 'w') as f:  # 替换成实际的文件名\n",
    "    for word in words:\n",
    "        f.write(word + '\\n')  # 将每个单词写入文件，并换行"
   ]
  },
  {
   "cell_type": "code",
   "execution_count": 2,
   "id": "46e0e72d",
   "metadata": {},
   "outputs": [],
   "source": [
    "# 读取第一个txt文件\n",
    "with open('sentiment_dic/nagtive_dic_1.txt', 'r') as f1:\n",
    "    content1 = f1.read().strip()  # 读取文件内容并去掉首尾空格\n",
    "words1 = content1.split('\\n')  # 将内容按换行符分割成单独的单词，存入列表中\n",
    "\n",
    "# 读取第二个txt文件\n",
    "with open('sentiment_dic/nagtive_dic_2.txt', 'r') as f2:\n",
    "    content2 = f2.read().strip()  # 读取文件内容并去掉首尾空格\n",
    "words2 = content2.split('\\n')  # 将内容按换行符分割成单独的单词，存入列表中\n",
    "\n",
    "# 合并两个列表并去除重复的内容\n",
    "words = list(set(words1 + words2))\n",
    "\n",
    "# 将内容写入新的txt文件\n",
    "with open('negative_dic_combined.txt', 'w') as f:\n",
    "    for word in words:\n",
    "        f.write(word + '\\n')  # 将每个单词写入文件，并换行"
   ]
  },
  {
   "cell_type": "code",
   "execution_count": null,
   "id": "85872660",
   "metadata": {},
   "outputs": [],
   "source": []
  }
 ],
 "metadata": {
  "kernelspec": {
   "display_name": "Datascience",
   "language": "python",
   "name": "datascience"
  },
  "language_info": {
   "codemirror_mode": {
    "name": "ipython",
    "version": 3
   },
   "file_extension": ".py",
   "mimetype": "text/x-python",
   "name": "python",
   "nbconvert_exporter": "python",
   "pygments_lexer": "ipython3",
   "version": "3.9.13"
  }
 },
 "nbformat": 4,
 "nbformat_minor": 5
}
