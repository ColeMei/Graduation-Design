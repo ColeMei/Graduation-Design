{
 "cells": [
  {
   "cell_type": "markdown",
   "id": "192f0f08",
   "metadata": {},
   "source": [
    "## 文本处理"
   ]
  },
  {
   "cell_type": "code",
   "execution_count": 1,
   "id": "43975152",
   "metadata": {},
   "outputs": [],
   "source": [
    "with open('sentiment_dic/nagtive_dic_2.txt', 'r') as f:  # 替换成实际的文件名\n",
    "    content = f.read().strip()  # 读取文件内容并去掉首尾空格\n",
    "words = content.split('、')  # 将内容按顿号分割成单独的单词，存入列表中\n",
    "\n",
    "with open('sentiment_dic/nagtive_dic_2.txt', 'w') as f:  # 替换成实际的文件名\n",
    "    for word in words:\n",
    "        f.write(word + '\\n')  # 将每个单词写入文件，并换行"
   ]
  },
  {
   "cell_type": "code",
   "execution_count": 2,
   "id": "46e0e72d",
   "metadata": {},
   "outputs": [],
   "source": [
    "# 读取第一个txt文件\n",
    "with open('sentiment_dic/nagtive_dic_1.txt', 'r') as f1:\n",
    "    content1 = f1.read().strip()  # 读取文件内容并去掉首尾空格\n",
    "words1 = content1.split('\\n')  # 将内容按换行符分割成单独的单词，存入列表中\n",
    "\n",
    "# 读取第二个txt文件\n",
    "with open('sentiment_dic/nagtive_dic_2.txt', 'r') as f2:\n",
    "    content2 = f2.read().strip()  # 读取文件内容并去掉首尾空格\n",
    "words2 = content2.split('\\n')  # 将内容按换行符分割成单独的单词，存入列表中\n",
    "\n",
    "# 合并两个列表并去除重复的内容\n",
    "words = list(set(words1 + words2))\n",
    "\n",
    "# 将内容写入新的txt文件\n",
    "with open('negative_dic_combined.txt', 'w') as f:\n",
    "    for word in words:\n",
    "        f.write(word + '\\n')  # 将每个单词写入文件，并换行"
   ]
  },
  {
   "cell_type": "markdown",
   "id": "8efbba7d",
   "metadata": {},
   "source": [
    "## Demo : 情感值计算"
   ]
  },
  {
   "cell_type": "code",
   "execution_count": 9,
   "id": "4c656b94",
   "metadata": {},
   "outputs": [],
   "source": [
    "import jieba\n",
    "import json\n",
    "\n",
    "# 加载情感词典\n",
    "with open('sentiment_dic/senti_dic_pro.txt', 'r', encoding='utf-8') as f:\n",
    "    sentiment_dict = json.load(f)\n",
    "\n",
    "# 加载程度副词词典\n",
    "with open('sentiment_dic/adv_dic.txt', 'r', encoding='utf-8') as f:\n",
    "    degree_dict = json.load(f)\n",
    "\n",
    "# 加载否定词词典\n",
    "with open('sentiment_dic/neg_dic.txt', 'r', encoding='utf-8') as f:\n",
    "    negation_dict = json.load(f)\n",
    "    \n",
    "# 计算单个句子的情感分数\n",
    "def sentiment_score(sen):\n",
    "    seg_list = jieba.cut(sen)  # 分词\n",
    "    seg_list = list(seg_list)\n",
    "    print(seg_list)\n",
    "    emotion_score = 0  # 情感分数\n",
    "    neg_count = 0  # 否定词数量\n",
    "    for i in range(len(seg_list)):\n",
    "        # 检查情感词\n",
    "        if seg_list[i] in sentiment_dict:\n",
    "            score = sentiment_dict[seg_list[i]]\n",
    "            degree_score = 1  # 默认程度系数为1\n",
    "            negation_score = 1  # 默认否定系数为1\n",
    "            # 在有效距离内寻找程度副词和否定词\n",
    "            for j in range(max(0, i-3), i):\n",
    "                if seg_list[j] in degree_dict:\n",
    "                    degree_score *= degree_dict[seg_list[j]]\n",
    "                elif seg_list[j] in negation_dict:\n",
    "                    neg_count += 1\n",
    "            # 根据否定词数量判断情感分数是否反转\n",
    "            if neg_count % 2 == 0:\n",
    "                emotion_score += score * degree_score\n",
    "            else:\n",
    "                emotion_score -= score * degree_score\n",
    "            neg_count = 0  # 重置否定词数量\n",
    "    return emotion_score"
   ]
  },
  {
   "cell_type": "code",
   "execution_count": 10,
   "id": "a357752d",
   "metadata": {},
   "outputs": [
    {
     "name": "stderr",
     "output_type": "stream",
     "text": [
      "Building prefix dict from the default dictionary ...\n",
      "Loading model from cache /var/folders/st/jr2134cd02575p7pnq8xy5440000gn/T/jieba.cache\n",
      "Loading model cost 0.323 seconds.\n",
      "Prefix dict has been built successfully.\n"
     ]
    },
    {
     "name": "stdout",
     "output_type": "stream",
     "text": [
      "['我', '非常', '开心', '，', '甚至', '极其', '开心']\n",
      "8\n"
     ]
    }
   ],
   "source": [
    "# 测试代码\n",
    "sen = '我非常开心，甚至极其开心'\n",
    "score = sentiment_score(sen)\n",
    "print(score)"
   ]
  },
  {
   "cell_type": "code",
   "execution_count": 13,
   "id": "71d3993e",
   "metadata": {},
   "outputs": [
    {
     "name": "stdout",
     "output_type": "stream",
     "text": [
      "['很', '难过']\n",
      "-3.0\n"
     ]
    }
   ],
   "source": [
    "# 测试代码\n",
    "sen = '很难过'\n",
    "score = sentiment_score(sen)\n",
    "print(score)"
   ]
  },
  {
   "cell_type": "code",
   "execution_count": 12,
   "id": "4daace1f",
   "metadata": {},
   "outputs": [
    {
     "name": "stdout",
     "output_type": "stream",
     "text": [
      "['绝对', '很', '好']\n",
      "6.0\n"
     ]
    }
   ],
   "source": [
    "# 测试代码\n",
    "sen = '绝对很好'\n",
    "score = sentiment_score(sen)\n",
    "print(score)"
   ]
  },
  {
   "cell_type": "code",
   "execution_count": 115,
   "id": "fca489b6",
   "metadata": {
    "scrolled": true
   },
   "outputs": [
    {
     "name": "stdout",
     "output_type": "stream",
     "text": [
      "['我', '好开心']\n",
      "0\n"
     ]
    }
   ],
   "source": [
    "# 测试代码\n",
    "sen = '我好开心'\n",
    "score = sentiment_score(sen)\n",
    "print(score)"
   ]
  },
  {
   "cell_type": "code",
   "execution_count": 116,
   "id": "766bff0e",
   "metadata": {
    "scrolled": true
   },
   "outputs": [
    {
     "name": "stdout",
     "output_type": "stream",
     "text": [
      "['我', '挺', '好', '的']\n",
      "1.6\n"
     ]
    }
   ],
   "source": [
    "# 测试代码\n",
    "sen = '我挺好的'\n",
    "score = sentiment_score(sen)\n",
    "print(score)"
   ]
  },
  {
   "cell_type": "markdown",
   "id": "b8250729",
   "metadata": {},
   "source": [
    "## Demo : LDA最优主题数获取"
   ]
  },
  {
   "cell_type": "code",
   "execution_count": 1,
   "id": "898e4b29",
   "metadata": {},
   "outputs": [],
   "source": [
    "import os\n",
    "import csv\n",
    "import warnings\n",
    "import time\n",
    "\n",
    "import numpy as np\n",
    "import matplotlib.pyplot as plt\n",
    "\n",
    "import gensim\n",
    "from gensim.corpora import Dictionary\n",
    "from gensim.models import LdaModel\n",
    "from gensim.models import CoherenceModel\n",
    "import pyLDAvis.gensim\n",
    "\n",
    "from sklearn.metrics.pairwise import cosine_similarity\n",
    "\n",
    "warnings.filterwarnings('ignore')\n"
   ]
  },
  {
   "cell_type": "code",
   "execution_count": 78,
   "id": "82316dd5",
   "metadata": {},
   "outputs": [],
   "source": [
    "def plot_perplexity(num_topics_range, perplexity_values, save_dir, file_name):\n",
    "    plt.plot(num_topics_range, perplexity_values)\n",
    "    plt.xlabel('Number of Topics')\n",
    "    plt.ylabel('Perplexity')\n",
    "    plt.title('Perplexity vs Number of Topics')\n",
    "    plt.savefig(os.path.join(save_dir, file_name))\n",
    "    plt.show()\n",
    "    plt.close()\n",
    "\n",
    "def plot_coherence_scores(num_topics_range, coherence_scores, save_dir, file_name):\n",
    "    plt.plot(num_topics_range, coherence_scores)\n",
    "    plt.xlabel('Number of Topics')\n",
    "    plt.ylabel('Coherence Score')\n",
    "    plt.title('Coherence Score vs Number of Topics')\n",
    "    plt.savefig(os.path.join(save_dir, file_name))\n",
    "    plt.show()\n",
    "    plt.close()\n",
    "\n",
    "def get_optimal_topic_num_by_perplexity(file_path, num_topics_range, save_dir):\n",
    "    '''\n",
    "    Compute the optimal number of topics by considering both perplexity and coherence scores.\n",
    "\n",
    "    Parameters:\n",
    "    file_path: str, the file path of the preprocessed text file.\n",
    "    num_topics_range: list, the range of topic numbers to try.\n",
    "    save_dir: str, the directory path to save the generated plots.\n",
    "\n",
    "    Returns:\n",
    "    best_num_topics: int, the optimal number of topics.\n",
    "    '''\n",
    "\n",
    "    # Read the file and create the corpus\n",
    "    with open(file_path, 'r', encoding='utf-8') as f:\n",
    "        corpus = [line.strip().split() for line in f]\n",
    "\n",
    "    # Create the dictionary\n",
    "    dictionary = Dictionary(corpus)\n",
    "    print(dictionary)\n",
    "    dictionary.filter_extremes(no_below=2, no_above=0.1)\n",
    "    print(dictionary)\n",
    "\n",
    "    # Train the LDA models with different topic numbers\n",
    "    lda_models = []\n",
    "    perplexity_values = []\n",
    "    coherence_scores = []\n",
    "    for num_topics in num_topics_range:\n",
    "        lda_model = LdaModel(corpus=[dictionary.doc2bow(text) for text in corpus], id2word=dictionary, num_topics=num_topics)\n",
    "        lda_models.append(lda_model)\n",
    "        likelihood_bound = lda_model.log_perplexity([dictionary.doc2bow(text) for text in corpus])\n",
    "        perplexity=pow(2,-likelihood_bound)\n",
    "        perplexity_values.append(perplexity)\n",
    "        coherence_scores.append(CoherenceModel(model=lda_model, texts=corpus, dictionary=dictionary, coherence='c_v').get_coherence())\n",
    "    \n",
    "    print(perplexity_values)\n",
    "    print(coherence_scores)\n",
    "    # Generate unique file names based on current timestamp\n",
    "    timestamp = str(time.time()).replace('.', '')  # Unique timestamp\n",
    "    perplexity_file_name = f'perplexity_plot_{timestamp}.svg'\n",
    "    coherence_file_name = f'coherence_plot_{timestamp}.svg'\n",
    "\n",
    "    # Save the perplexity plot and coherence plot as vector images\n",
    "    plot_perplexity(num_topics_range, perplexity_values, save_dir, perplexity_file_name)\n",
    "    plot_coherence_scores(num_topics_range, coherence_scores, save_dir, coherence_file_name)\n",
    "    \n",
    "    # find the optimal number of topics based on the coherence scores\n",
    "    best_num_topics_index = coherence_scores.index(max(coherence_scores))\n",
    "    best_num_topics = num_topics_range[best_num_topics_index]\n",
    "\n",
    "    print(\"Optimal number of topics (consider coherence value):\", best_num_topics)\n",
    "\n",
    "    return best_num_topics"
   ]
  },
  {
   "cell_type": "code",
   "execution_count": 79,
   "id": "82db61fa",
   "metadata": {},
   "outputs": [],
   "source": [
    "def plot_similarity(num_topics_range, similarity_values, save_dir, file_name):\n",
    "    plt.plot(num_topics_range, similarity_values)\n",
    "    plt.xlabel('Number of Topics')\n",
    "    plt.ylabel('Average Cosine Similarity')\n",
    "    plt.title('Average Cosine Similarity vs Number of Topics')\n",
    "    plt.savefig(os.path.join(save_dir, file_name))\n",
    "    plt.show()\n",
    "    plt.close()\n",
    "\n",
    "def get_optimal_topic_num_by_similarity(file_path, num_topics_range, save_dir):\n",
    "    '''\n",
    "    Compute the optimal number of topics.\n",
    "\n",
    "    Parameters:\n",
    "    file_path: str, the file path of the preprocessed text file.\n",
    "    num_topics_range: list, the range of topic numbers to try.\n",
    "    save_dir: str, the directory path to save the generated plots.\n",
    "\n",
    "    Returns:\n",
    "    best_num_topics: int, the optimal number of topics.\n",
    "    '''\n",
    "\n",
    "    # Read file and create the corpus\n",
    "    with open(file_path, 'r', encoding='utf-8') as f:\n",
    "        corpus = [line.strip().split() for line in f]\n",
    "\n",
    "    # Create dictionary\n",
    "    dictionary = Dictionary(corpus)\n",
    "    print(dictionary)\n",
    "    dictionary.filter_extremes(no_below=2, no_above=0.1)\n",
    "    print(dictionary)\n",
    "\n",
    "    # Train the LDA models with different topic numbers\n",
    "    lda_models = []\n",
    "    similarity_values = []\n",
    "    for num_topics in num_topics_range:\n",
    "        lda_model = LdaModel(corpus=[dictionary.doc2bow(text) for text in corpus], id2word=dictionary, num_topics=num_topics)\n",
    "        lda_models.append(lda_model)\n",
    "        topics_matrix = lda_model.get_topics()\n",
    "        cosine_similarities = cosine_similarity(topics_matrix)\n",
    "        similarity_values.append(np.mean(cosine_similarities[np.triu_indices(num_topics, k=1)]))\n",
    "    print(similarity_values)\n",
    "    \n",
    "    # Generate a unique file name based on current timestamp\n",
    "    timestamp = str(time.time()).replace('.', '')  # Unique timestamp\n",
    "    file_name = f'similarity_plot_{timestamp}.svg'\n",
    "\n",
    "    # Save the similarity plot as a vector image\n",
    "    plot_similarity(num_topics_range, similarity_values, save_dir, file_name)\n",
    "\n",
    "    # Find the optimal number of topics\n",
    "    best_num_topics_index = similarity_values.index(min(similarity_values))\n",
    "    best_num_topics = num_topics_range[best_num_topics_index]\n",
    "    \n",
    "    print(\"Optimal number of topics (consider cosine similarity value):\", best_num_topics)\n",
    "    \n",
    "    return best_num_topics"
   ]
  },
  {
   "cell_type": "code",
   "execution_count": 80,
   "id": "00928843",
   "metadata": {},
   "outputs": [],
   "source": [
    "# Create a list of integers for the range of number of topics.\n",
    "num_topics_range = list(range(2, 5))\n",
    "\n",
    "# Set the path to save the vector image\n",
    "save_dir = \"../images/Optimal_topics_number_search/demo\"\n",
    "\n",
    "# Assign weights to each variable\n",
    "weight_perplexity = 0.7\n",
    "weight_similarity = 0.3"
   ]
  },
  {
   "cell_type": "code",
   "execution_count": 81,
   "id": "ba6bed9a",
   "metadata": {},
   "outputs": [
    {
     "name": "stdout",
     "output_type": "stream",
     "text": [
      "Dictionary<5565 unique tokens: ['休息', '地方', '坐下', '座位', '想']...>\n",
      "Dictionary<2029 unique tokens: ['休息', '坐下', '座位', '想', '逛累']...>\n",
      "[178.52809567602705, 193.61514924136839, 203.1966326983063]\n",
      "[0.3334130881807586, 0.26560016332523045, 0.25894794419768025]\n"
     ]
    },
    {
     "data": {
      "image/png": "[encoded data removed]",
      "text/plain": [
       "<Figure size 640x480 with 1 Axes>"
      ]
     },
     "metadata": {},
     "output_type": "display_data"
    },
    {
     "data": {
      "image/png": "[encoded data removed]",
      "text/plain": [
       "<Figure size 640x480 with 1 Axes>"
      ]
     },
     "metadata": {},
     "output_type": "display_data"
    },
    {
     "name": "stdout",
     "output_type": "stream",
     "text": [
      "Optimal number of topics (consider coherence value): 2\n",
      "Dictionary<5565 unique tokens: ['休息', '地方', '坐下', '座位', '想']...>\n",
      "Dictionary<5565 unique tokens: ['休息', '地方', '坐下', '座位', '想']...>\n",
      "[0.93235385, 0.9070441, 0.869297]\n"
     ]
    },
    {
     "data": {
      "image/png": "[encoded data removed]",
      "text/plain": [
       "<Figure size 640x480 with 1 Axes>"
      ]
     },
     "metadata": {},
     "output_type": "display_data"
    },
    {
     "name": "stdout",
     "output_type": "stream",
     "text": [
      "Optimal number of topics (consider cosine similarity value): 4\n",
      "Ultimate optimal number of topics : 2\n"
     ]
    }
   ],
   "source": [
    "# Set the file path for a text file.\n",
    "file_path = \"../data/review/analysis/polarity/reviews_1_polarity_N.txt\"\n",
    "\n",
    "# Get the optimal number of topics based on perplexity and cosine similarity.\n",
    "best_num_topics_perplexity = get_optimal_topic_num_by_perplexity(file_path, num_topics_range, save_dir)\n",
    "best_num_topics_similarity = get_optimal_topic_num_by_similarity(file_path, num_topics_range, save_dir)\n",
    "\n",
    "# Print the ultimate optimal number of topics.\n",
    "P1_best_num_topics = int((best_num_topics_perplexity * weight_perplexity + best_num_topics_similarity * weight_similarity) / (weight_perplexity + weight_similarity))\n",
    "print(\"Ultimate optimal number of topics :\", P1_best_num_topics)"
   ]
  },
  {
   "cell_type": "markdown",
   "id": "c8183196",
   "metadata": {},
   "source": [
    "## 统计词语"
   ]
  },
  {
   "cell_type": "markdown",
   "id": "8445091e",
   "metadata": {},
   "source": [
    "/Users/colemei/Desktop/Graduation Design/source/sentiment_dic/base/negative_dic.txt\n",
    "/Users/colemei/Desktop/Graduation Design/source/sentiment_dic/base/hownet_dic/hownet_positive_sentiment.txt\n",
    "/Users/colemei/Desktop/Graduation Design/source/stopwords/custom_dict.txt\n",
    "/Users/colemei/Desktop/Graduation Design/source/stopwords/stopwords_pro.txt\n",
    "/Users/colemei/Desktop/Graduation Design/source/sentiment_dic/base/adv_dic.txt\n",
    "/Users/colemei/Desktop/Graduation Design/source/sentiment_dic/senti_dic_pro.txt"
   ]
  },
  {
   "cell_type": "code",
   "execution_count": 2,
   "id": "267eb2aa",
   "metadata": {},
   "outputs": [
    {
     "name": "stdout",
     "output_type": "stream",
     "text": [
      "词语数量: 189\n"
     ]
    }
   ],
   "source": [
    "# 打开文本文件并读取内容\n",
    "with open('stopwords/custom_dict.txt', 'r', encoding='utf-8') as file:\n",
    "    lines = file.readlines()\n",
    "\n",
    "# 将词语连接起来\n",
    "words = [line.strip() for line in lines]  # 去除每行的换行符并存储到列表中\n",
    "joined_words = '、'.join(words)  # 使用\"、\"连接词语\n",
    "\n",
    "# 统计词语数量\n",
    "word_count = len(words)\n",
    "\n",
    "# 输出结果\n",
    "print('词语数量:', word_count)"
   ]
  },
  {
   "cell_type": "code",
   "execution_count": 4,
   "id": "4c7e9869",
   "metadata": {},
   "outputs": [
    {
     "name": "stdout",
     "output_type": "stream",
     "text": [
      "词语数量: 2226\n"
     ]
    }
   ],
   "source": [
    "# 打开文本文件并读取内容\n",
    "with open('stopwords/stopwords_pro.txt', 'r', encoding='utf-8') as file:\n",
    "    lines = file.readlines()\n",
    "\n",
    "# 将词语连接起来\n",
    "words = [line.strip() for line in lines]  # 去除每行的换行符并存储到列表中\n",
    "joined_words = '、'.join(words)  # 使用\"、\"连接词语\n",
    "\n",
    "# 统计词语数量\n",
    "word_count = len(words)\n",
    "\n",
    "# 输出结果\n",
    "print('词语数量:', word_count)"
   ]
  },
  {
   "cell_type": "code",
   "execution_count": 9,
   "id": "4ae5602b",
   "metadata": {
    "scrolled": true
   },
   "outputs": [
    {
     "name": "stdout",
     "output_type": "stream",
     "text": [
      "连接后的词语: 未能、杜绝、怎么不、不用、从未、白白、勿、没、绝非、不能、抹掉、从来不、尚无、不是、白、永不、休要、不怎么、杜绝、几乎不、毫无、弗、否、毋、忌、难以、切莫、不要、无用、从不、不如、极少、毫不、抹杀、休、不会、决不、无须、缺少、一无、不该、白搭、否定、缺乏、木有、不定点儿、休想、没有、从未有过、不、很少、莫、切勿、拒绝、未、反、弗有、放下、放弃、并非、甭、不曾、非、勿用、否认、远非、终止、无、未尝、禁止、不可以、尚未、未必、一无所获、停止、不甚、不必、未曾、并未、甭、别、绝不、不及、休想、否决、不好、反对、从没、抹煞、没怎么、不大\n",
      "词语数量: 91\n"
     ]
    }
   ],
   "source": [
    "# 打开文本文件并读取内容\n",
    "with open('sentiment_dic/base/negative_dic.txt', 'r', encoding='utf-8') as file:\n",
    "    lines = file.readlines()\n",
    "\n",
    "# 将词语连接起来\n",
    "words = [line.strip() for line in lines]  # 去除每行的换行符并存储到列表中\n",
    "joined_words = '、'.join(words)  # 使用\"、\"连接词语\n",
    "\n",
    "# 统计词语数量\n",
    "word_count = len(words)\n",
    "\n",
    "# 输出结果\n",
    "print('连接后的词语:', joined_words)\n",
    "print('词语数量:', word_count)\n"
   ]
  },
  {
   "cell_type": "code",
   "execution_count": 8,
   "id": "d0f3d906",
   "metadata": {},
   "outputs": [
    {
     "name": "stdout",
     "output_type": "stream",
     "text": [
      "词语数量: 216\n"
     ]
    }
   ],
   "source": [
    "# 打开文本文件并读取内容\n",
    "with open('sentiment_dic/base/adv_dic.txt', 'r', encoding='utf-8') as file:\n",
    "    lines = file.readlines()\n",
    "\n",
    "# 将词语连接起来\n",
    "words = [line.strip() for line in lines]  # 去除每行的换行符并存储到列表中\n",
    "joined_words = '、'.join(words)  # 使用\"、\"连接词语\n",
    "\n",
    "# 统计词语数量\n",
    "word_count = len(words)\n",
    "\n",
    "# 输出结果\n",
    "print('词语数量:', word_count)"
   ]
  },
  {
   "cell_type": "code",
   "execution_count": 5,
   "id": "87ed9b55",
   "metadata": {},
   "outputs": [
    {
     "name": "stdout",
     "output_type": "stream",
     "text": [
      "词语数量: 836\n"
     ]
    }
   ],
   "source": [
    "# 打开文本文件并读取内容\n",
    "with open('sentiment_dic/base/hownet_dic/hownet_positive_sentiment.txt', 'r', encoding='gbk') as file:\n",
    "    lines = file.readlines()\n",
    "\n",
    "# 将词语连接起来\n",
    "words = [line.strip() for line in lines]  # 去除每行的换行符并存储到列表中\n",
    "joined_words = '、'.join(words)  # 使用\"、\"连接词语\n",
    "\n",
    "# 统计词语数量\n",
    "word_count = len(words)\n",
    "\n",
    "# 输出结果\n",
    "print('词语数量:', word_count)"
   ]
  },
  {
   "cell_type": "code",
   "execution_count": 6,
   "id": "a8d24ca7",
   "metadata": {},
   "outputs": [
    {
     "name": "stdout",
     "output_type": "stream",
     "text": [
      "词语数量: 1254\n"
     ]
    }
   ],
   "source": [
    "# 打开文本文件并读取内容\n",
    "with open('sentiment_dic/base/hownet_dic/hownet_negative_sentiment.txt', 'r', encoding='gbk') as file:\n",
    "    lines = file.readlines()\n",
    "\n",
    "# 将词语连接起来\n",
    "words = [line.strip() for line in lines]  # 去除每行的换行符并存储到列表中\n",
    "joined_words = '、'.join(words)  # 使用\"、\"连接词语\n",
    "\n",
    "# 统计词语数量\n",
    "word_count = len(words)\n",
    "\n",
    "# 输出结果\n",
    "print('词语数量:', word_count)"
   ]
  },
  {
   "cell_type": "code",
   "execution_count": 5,
   "id": "cc116fb7",
   "metadata": {
    "scrolled": true
   },
   "outputs": [
    {
     "name": "stdout",
     "output_type": "stream",
     "text": [
      "value为1的数量: 5615\n",
      "value为-1的数量: 9686\n"
     ]
    }
   ],
   "source": [
    "import json\n",
    "\n",
    "# 打开文本文件并读取字典\n",
    "with open('sentiment_dic/senti_dic_pro.txt', 'r', encoding='utf-8') as file:\n",
    "    dictionary = json.load(file)\n",
    "\n",
    "# 统计字典中value为1和-1的数量\n",
    "count_1 = 0\n",
    "count_minus_1 = 0\n",
    "for key, value in dictionary.items():\n",
    "    if value == 1:\n",
    "        count_1 += 1\n",
    "    elif value == -1:\n",
    "        count_minus_1 += 1\n",
    "\n",
    "# 输出结果\n",
    "print('value为1的数量:', count_1)\n",
    "print('value为-1的数量:', count_minus_1)\n"
   ]
  },
  {
   "cell_type": "markdown",
   "id": "5241f789",
   "metadata": {},
   "source": [
    "## 代码行数统计"
   ]
  },
  {
   "cell_type": "code",
   "execution_count": 82,
   "id": "f2154140",
   "metadata": {
    "scrolled": true
   },
   "outputs": [
    {
     "name": "stdout",
     "output_type": "stream",
     "text": [
      "/Users/colemei/Library/Mobile Documents/com~apple~CloudDocs/学校/大四下/Graduation Design/source/Data-Analysis-02.ipynb: Code lines: 1506, Comment lines: 90\n",
      "/Users/colemei/Library/Mobile Documents/com~apple~CloudDocs/学校/大四下/Graduation Design/source/Data-PreProcessing-01.ipynb: Code lines: 727, Comment lines: 94\n",
      "/Users/colemei/Library/Mobile Documents/com~apple~CloudDocs/学校/大四下/Graduation Design/source/Data-Analysis-01.ipynb: Code lines: 1106, Comment lines: 150\n",
      "/Users/colemei/Library/Mobile Documents/com~apple~CloudDocs/学校/大四下/Graduation Design/source/Data-Analysis-03.ipynb: Code lines: 457, Comment lines: 40\n",
      "/Users/colemei/Library/Mobile Documents/com~apple~CloudDocs/学校/大四下/Graduation Design/source/Content-Mining-01.ipynb: Code lines: 1479, Comment lines: 100\n",
      "/Users/colemei/Library/Mobile Documents/com~apple~CloudDocs/学校/大四下/Graduation Design/source/Data-Cleaning-02.ipynb: Code lines: 1421, Comment lines: 62\n",
      "/Users/colemei/Library/Mobile Documents/com~apple~CloudDocs/学校/大四下/Graduation Design/source/Others.ipynb: Code lines: 848, Comment lines: 98\n",
      "/Users/colemei/Library/Mobile Documents/com~apple~CloudDocs/学校/大四下/Graduation Design/source/Data-Storage-01.ipynb: Code lines: 163, Comment lines: 20\n",
      "/Users/colemei/Library/Mobile Documents/com~apple~CloudDocs/学校/大四下/Graduation Design/source/Data-Cleaning-01.ipynb: Code lines: 501, Comment lines: 5\n",
      "Total Code lines: 8208\n",
      "Total Comment lines: 659\n"
     ]
    }
   ],
   "source": [
    "import os\n",
    "import re\n",
    "\n",
    "def count_code_lines(file_path):\n",
    "    code_count = 0\n",
    "    comment_count = 0\n",
    "    with open(file_path, 'r', encoding='utf-8') as file:\n",
    "        lines = file.readlines()\n",
    "        is_in_comment = False\n",
    "        for line in lines:\n",
    "            stripped_line = line.strip()\n",
    "            if stripped_line:\n",
    "                if stripped_line.startswith('#'):\n",
    "                    comment_count += 1\n",
    "                else:\n",
    "                    if re.search(r'#', stripped_line):\n",
    "                        comment_count += 1\n",
    "                    code_count += 1\n",
    "    return code_count, comment_count\n",
    "\n",
    "def count_total_lines(folder_path):\n",
    "    total_code_count = 0\n",
    "    total_comment_count = 0\n",
    "    for file in os.listdir(folder_path):\n",
    "        file_path = os.path.join(folder_path, file)\n",
    "        if file.endswith('.ipynb') and os.path.isfile(file_path):\n",
    "            code_count, comment_count = count_code_lines(file_path)\n",
    "            total_code_count += code_count\n",
    "            total_comment_count += comment_count\n",
    "            print(f\"{file_path}: Code lines: {code_count}, Comment lines: {comment_count}\")\n",
    "    print(f\"Total Code lines: {total_code_count}\")\n",
    "    print(f\"Total Comment lines: {total_comment_count}\")\n",
    "\n",
    "current_directory = os.getcwd()\n",
    "count_total_lines(current_directory)"
   ]
  }
 ],
 "metadata": {
  "kernelspec": {
   "display_name": "Datascience",
   "language": "python",
   "name": "datascience"
  },
  "language_info": {
   "codemirror_mode": {
    "name": "ipython",
    "version": 3
   },
   "file_extension": ".py",
   "mimetype": "text/x-python",
   "name": "python",
   "nbconvert_exporter": "python",
   "pygments_lexer": "ipython3",
   "version": "3.9.13"
  }
 },
 "nbformat": 4,
 "nbformat_minor": 5
}
