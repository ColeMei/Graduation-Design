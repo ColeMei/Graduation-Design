{
 "cells": [
  {
   "cell_type": "code",
   "execution_count": 1,
   "id": "97474b68",
   "metadata": {},
   "outputs": [],
   "source": [
    "import pandas as pd\n",
    "import numpy as np"
   ]
  },
  {
   "cell_type": "code",
   "execution_count": 2,
   "id": "b0f834eb",
   "metadata": {},
   "outputs": [],
   "source": [
    "df = pd.read_csv('../data/stores.csv')"
   ]
  },
  {
   "cell_type": "code",
   "execution_count": 3,
   "id": "5a442de7",
   "metadata": {},
   "outputs": [
    {
     "data": {
      "text/html": [
       "<div>\n",
       "<style scoped>\n",
       "    .dataframe tbody tr th:only-of-type {\n",
       "        vertical-align: middle;\n",
       "    }\n",
       "\n",
       "    .dataframe tbody tr th {\n",
       "        vertical-align: top;\n",
       "    }\n",
       "\n",
       "    .dataframe thead th {\n",
       "        text-align: right;\n",
       "    }\n",
       "</style>\n",
       "<table border=\"1\" class=\"dataframe\">\n",
       "  <thead>\n",
       "    <tr style=\"text-align: right;\">\n",
       "      <th></th>\n",
       "      <th>user_name</th>\n",
       "      <th>facs_score</th>\n",
       "      <th>envr_score</th>\n",
       "      <th>serv_score</th>\n",
       "      <th>review</th>\n",
       "      <th>time</th>\n",
       "      <th>from</th>\n",
       "    </tr>\n",
       "  </thead>\n",
       "  <tbody>\n",
       "    <tr>\n",
       "      <th>0</th>\n",
       "      <td>牙大酥</td>\n",
       "      <td>设施：5.0</td>\n",
       "      <td>环境：5.0</td>\n",
       "      <td>服务：5.0</td>\n",
       "      <td>特别赞的一家商场，在王府井这个商场云集和大牌云集的地方，apm商场算是人气特别高的了。\\n交...</td>\n",
       "      <td>2023-04-17 23:12</td>\n",
       "      <td>北京apm</td>\n",
       "    </tr>\n",
       "    <tr>\n",
       "      <th>1</th>\n",
       "      <td>磕磕绊绊</td>\n",
       "      <td>设施：5.0</td>\n",
       "      <td>环境：5.0</td>\n",
       "      <td>服务：5.0</td>\n",
       "      <td>LINLEE在王府井apm也开新店了，超级喜欢他们家的口味，和朋友逛街无意看到的，果断去买一...</td>\n",
       "      <td>2023-04-17 21:22</td>\n",
       "      <td>北京apm</td>\n",
       "    </tr>\n",
       "    <tr>\n",
       "      <th>2</th>\n",
       "      <td>吃货阿浪</td>\n",
       "      <td>设施：5.0</td>\n",
       "      <td>环境：5.0</td>\n",
       "      <td>服务：5.0</td>\n",
       "      <td>北京apm \\n东城区商场热门榜第一名☝️🥇\\n王府井大街138号\\n环境：商场环境干净整齐...</td>\n",
       "      <td>2023-04-17 21:05</td>\n",
       "      <td>北京apm</td>\n",
       "    </tr>\n",
       "  </tbody>\n",
       "</table>\n",
       "</div>"
      ],
      "text/plain": [
       "  user_name facs_score envr_score serv_score  \\\n",
       "0       牙大酥     设施：5.0     环境：5.0     服务：5.0   \n",
       "1      磕磕绊绊     设施：5.0     环境：5.0     服务：5.0   \n",
       "2      吃货阿浪     设施：5.0     环境：5.0     服务：5.0   \n",
       "\n",
       "                                              review              time   from  \n",
       "0  特别赞的一家商场，在王府井这个商场云集和大牌云集的地方，apm商场算是人气特别高的了。\\n交...  2023-04-17 23:12  北京apm  \n",
       "1  LINLEE在王府井apm也开新店了，超级喜欢他们家的口味，和朋友逛街无意看到的，果断去买一...  2023-04-17 21:22  北京apm  \n",
       "2  北京apm \\n东城区商场热门榜第一名☝️🥇\\n王府井大街138号\\n环境：商场环境干净整齐...  2023-04-17 21:05  北京apm  "
      ]
     },
     "execution_count": 3,
     "metadata": {},
     "output_type": "execute_result"
    }
   ],
   "source": [
    "df.head(3)"
   ]
  },
  {
   "cell_type": "code",
   "execution_count": 4,
   "id": "4fecf818",
   "metadata": {
    "scrolled": true
   },
   "outputs": [
    {
     "data": {
      "text/plain": [
       "user_name     0\n",
       "facs_score    0\n",
       "envr_score    0\n",
       "serv_score    0\n",
       "review        0\n",
       "time          0\n",
       "from          0\n",
       "dtype: int64"
      ]
     },
     "execution_count": 4,
     "metadata": {},
     "output_type": "execute_result"
    }
   ],
   "source": [
    "df.isnull().sum()"
   ]
  },
  {
   "cell_type": "markdown",
   "id": "5b5e3470",
   "metadata": {},
   "source": [
    "## 1. Format three columns (facs_score, envr_score, serv_score)"
   ]
  },
  {
   "cell_type": "code",
   "execution_count": 5,
   "id": "c5600e01",
   "metadata": {},
   "outputs": [
    {
     "data": {
      "text/plain": [
       "user_name     object\n",
       "facs_score    object\n",
       "envr_score    object\n",
       "serv_score    object\n",
       "review        object\n",
       "time          object\n",
       "from          object\n",
       "dtype: object"
      ]
     },
     "execution_count": 5,
     "metadata": {},
     "output_type": "execute_result"
    }
   ],
   "source": [
    "df.dtypes"
   ]
  },
  {
   "cell_type": "code",
   "execution_count": 6,
   "id": "0c26c979",
   "metadata": {},
   "outputs": [],
   "source": [
    "# Define the original and standard values to be replaced\n",
    "original = ['设施：5.0', '设施：4.5','设施：4.0', '设施：3.5', '设施：3.0', '设施：2.5','设施：2.0', '设施：1.5', '设施：1.0', '设施：0.5', '设施：0.0']\n",
    "standard = [5.0, 4.5, 4.0, 3.5, 3.0, 2.5, 2.0, 1.5, 1.0, 0.5, 0.0]\n",
    "\n",
    "# Replace the values in the 'facs_score' column of the DataFrame 'df' with their corresponding standard values\n",
    "df['facs_score'] = df['facs_score'].replace(original, standard)"
   ]
  },
  {
   "cell_type": "code",
   "execution_count": 7,
   "id": "d67771df",
   "metadata": {},
   "outputs": [],
   "source": [
    "# Same as the below\n",
    "original = ['环境：5.0', '环境：4.5','环境：4.0', '环境：3.5', '环境：3.0', '环境：2.5','环境：2.0', '环境：1.5', '环境：1.0', '环境：0.5', '环境：0.0']\n",
    "standard = [5.0, 4.5, 4.0, 3.5, 3.0, 2.5, 2.0, 1.5, 1.0, 0.5, 0.0]\n",
    "df['envr_score']= df['envr_score'].replace(original, standard)"
   ]
  },
  {
   "cell_type": "code",
   "execution_count": 8,
   "id": "58ecc6de",
   "metadata": {},
   "outputs": [],
   "source": [
    "# Same as the below\n",
    "original = ['服务：5.0', '服务：4.5','服务：4.0', '服务：3.5', '服务：3.0', '服务：2.5','服务：2.0', '服务：1.5', '服务：1.0', '服务：0.5', '服务：0.0']\n",
    "standard = [5.0, 4.5, 4.0, 3.5, 3.0, 2.5, 2.0, 1.5, 1.0, 0.5, 0.0]\n",
    "df['serv_score']= df['serv_score'].replace(original, standard)"
   ]
  },
  {
   "cell_type": "code",
   "execution_count": 9,
   "id": "d50762ef",
   "metadata": {},
   "outputs": [
    {
     "data": {
      "text/html": [
       "<div>\n",
       "<style scoped>\n",
       "    .dataframe tbody tr th:only-of-type {\n",
       "        vertical-align: middle;\n",
       "    }\n",
       "\n",
       "    .dataframe tbody tr th {\n",
       "        vertical-align: top;\n",
       "    }\n",
       "\n",
       "    .dataframe thead th {\n",
       "        text-align: right;\n",
       "    }\n",
       "</style>\n",
       "<table border=\"1\" class=\"dataframe\">\n",
       "  <thead>\n",
       "    <tr style=\"text-align: right;\">\n",
       "      <th></th>\n",
       "      <th>user_name</th>\n",
       "      <th>facs_score</th>\n",
       "      <th>envr_score</th>\n",
       "      <th>serv_score</th>\n",
       "      <th>review</th>\n",
       "      <th>time</th>\n",
       "      <th>from</th>\n",
       "    </tr>\n",
       "  </thead>\n",
       "  <tbody>\n",
       "    <tr>\n",
       "      <th>0</th>\n",
       "      <td>牙大酥</td>\n",
       "      <td>5.0</td>\n",
       "      <td>5.0</td>\n",
       "      <td>5.0</td>\n",
       "      <td>特别赞的一家商场，在王府井这个商场云集和大牌云集的地方，apm商场算是人气特别高的了。\\n交...</td>\n",
       "      <td>2023-04-17 23:12</td>\n",
       "      <td>北京apm</td>\n",
       "    </tr>\n",
       "    <tr>\n",
       "      <th>1</th>\n",
       "      <td>磕磕绊绊</td>\n",
       "      <td>5.0</td>\n",
       "      <td>5.0</td>\n",
       "      <td>5.0</td>\n",
       "      <td>LINLEE在王府井apm也开新店了，超级喜欢他们家的口味，和朋友逛街无意看到的，果断去买一...</td>\n",
       "      <td>2023-04-17 21:22</td>\n",
       "      <td>北京apm</td>\n",
       "    </tr>\n",
       "    <tr>\n",
       "      <th>2</th>\n",
       "      <td>吃货阿浪</td>\n",
       "      <td>5.0</td>\n",
       "      <td>5.0</td>\n",
       "      <td>5.0</td>\n",
       "      <td>北京apm \\n东城区商场热门榜第一名☝️🥇\\n王府井大街138号\\n环境：商场环境干净整齐...</td>\n",
       "      <td>2023-04-17 21:05</td>\n",
       "      <td>北京apm</td>\n",
       "    </tr>\n",
       "  </tbody>\n",
       "</table>\n",
       "</div>"
      ],
      "text/plain": [
       "  user_name  facs_score  envr_score  serv_score  \\\n",
       "0       牙大酥         5.0         5.0         5.0   \n",
       "1      磕磕绊绊         5.0         5.0         5.0   \n",
       "2      吃货阿浪         5.0         5.0         5.0   \n",
       "\n",
       "                                              review              time   from  \n",
       "0  特别赞的一家商场，在王府井这个商场云集和大牌云集的地方，apm商场算是人气特别高的了。\\n交...  2023-04-17 23:12  北京apm  \n",
       "1  LINLEE在王府井apm也开新店了，超级喜欢他们家的口味，和朋友逛街无意看到的，果断去买一...  2023-04-17 21:22  北京apm  \n",
       "2  北京apm \\n东城区商场热门榜第一名☝️🥇\\n王府井大街138号\\n环境：商场环境干净整齐...  2023-04-17 21:05  北京apm  "
      ]
     },
     "execution_count": 9,
     "metadata": {},
     "output_type": "execute_result"
    }
   ],
   "source": [
    "df.head(3)"
   ]
  },
  {
   "cell_type": "markdown",
   "id": "ee0624f4",
   "metadata": {},
   "source": [
    "### Check the outcome"
   ]
  },
  {
   "cell_type": "code",
   "execution_count": 10,
   "id": "76546a6b",
   "metadata": {},
   "outputs": [
    {
     "data": {
      "text/html": [
       "<div>\n",
       "<style scoped>\n",
       "    .dataframe tbody tr th:only-of-type {\n",
       "        vertical-align: middle;\n",
       "    }\n",
       "\n",
       "    .dataframe tbody tr th {\n",
       "        vertical-align: top;\n",
       "    }\n",
       "\n",
       "    .dataframe thead th {\n",
       "        text-align: right;\n",
       "    }\n",
       "</style>\n",
       "<table border=\"1\" class=\"dataframe\">\n",
       "  <thead>\n",
       "    <tr style=\"text-align: right;\">\n",
       "      <th></th>\n",
       "      <th>user_name</th>\n",
       "      <th>facs_score</th>\n",
       "      <th>envr_score</th>\n",
       "      <th>serv_score</th>\n",
       "      <th>review</th>\n",
       "      <th>time</th>\n",
       "      <th>from</th>\n",
       "    </tr>\n",
       "  </thead>\n",
       "  <tbody>\n",
       "  </tbody>\n",
       "</table>\n",
       "</div>"
      ],
      "text/plain": [
       "Empty DataFrame\n",
       "Columns: [user_name, facs_score, envr_score, serv_score, review, time, from]\n",
       "Index: []"
      ]
     },
     "execution_count": 10,
     "metadata": {},
     "output_type": "execute_result"
    }
   ],
   "source": [
    "df.loc[~df['facs_score'].isin(standard)]"
   ]
  },
  {
   "cell_type": "code",
   "execution_count": 11,
   "id": "7b84ce9f",
   "metadata": {
    "scrolled": true
   },
   "outputs": [
    {
     "data": {
      "text/html": [
       "<div>\n",
       "<style scoped>\n",
       "    .dataframe tbody tr th:only-of-type {\n",
       "        vertical-align: middle;\n",
       "    }\n",
       "\n",
       "    .dataframe tbody tr th {\n",
       "        vertical-align: top;\n",
       "    }\n",
       "\n",
       "    .dataframe thead th {\n",
       "        text-align: right;\n",
       "    }\n",
       "</style>\n",
       "<table border=\"1\" class=\"dataframe\">\n",
       "  <thead>\n",
       "    <tr style=\"text-align: right;\">\n",
       "      <th></th>\n",
       "      <th>user_name</th>\n",
       "      <th>facs_score</th>\n",
       "      <th>envr_score</th>\n",
       "      <th>serv_score</th>\n",
       "      <th>review</th>\n",
       "      <th>time</th>\n",
       "      <th>from</th>\n",
       "    </tr>\n",
       "  </thead>\n",
       "  <tbody>\n",
       "  </tbody>\n",
       "</table>\n",
       "</div>"
      ],
      "text/plain": [
       "Empty DataFrame\n",
       "Columns: [user_name, facs_score, envr_score, serv_score, review, time, from]\n",
       "Index: []"
      ]
     },
     "execution_count": 11,
     "metadata": {},
     "output_type": "execute_result"
    }
   ],
   "source": [
    "df.loc[~df['envr_score'].isin(standard)]"
   ]
  },
  {
   "cell_type": "code",
   "execution_count": 12,
   "id": "f07741b4",
   "metadata": {},
   "outputs": [
    {
     "data": {
      "text/html": [
       "<div>\n",
       "<style scoped>\n",
       "    .dataframe tbody tr th:only-of-type {\n",
       "        vertical-align: middle;\n",
       "    }\n",
       "\n",
       "    .dataframe tbody tr th {\n",
       "        vertical-align: top;\n",
       "    }\n",
       "\n",
       "    .dataframe thead th {\n",
       "        text-align: right;\n",
       "    }\n",
       "</style>\n",
       "<table border=\"1\" class=\"dataframe\">\n",
       "  <thead>\n",
       "    <tr style=\"text-align: right;\">\n",
       "      <th></th>\n",
       "      <th>user_name</th>\n",
       "      <th>facs_score</th>\n",
       "      <th>envr_score</th>\n",
       "      <th>serv_score</th>\n",
       "      <th>review</th>\n",
       "      <th>time</th>\n",
       "      <th>from</th>\n",
       "    </tr>\n",
       "  </thead>\n",
       "  <tbody>\n",
       "  </tbody>\n",
       "</table>\n",
       "</div>"
      ],
      "text/plain": [
       "Empty DataFrame\n",
       "Columns: [user_name, facs_score, envr_score, serv_score, review, time, from]\n",
       "Index: []"
      ]
     },
     "execution_count": 12,
     "metadata": {},
     "output_type": "execute_result"
    }
   ],
   "source": [
    "df.loc[~df['serv_score'].isin(standard)]"
   ]
  },
  {
   "cell_type": "code",
   "execution_count": 13,
   "id": "affc5244",
   "metadata": {},
   "outputs": [
    {
     "data": {
      "text/plain": [
       "user_name      object\n",
       "facs_score    float64\n",
       "envr_score    float64\n",
       "serv_score    float64\n",
       "review         object\n",
       "time           object\n",
       "from           object\n",
       "dtype: object"
      ]
     },
     "execution_count": 13,
     "metadata": {},
     "output_type": "execute_result"
    }
   ],
   "source": [
    "df.dtypes"
   ]
  },
  {
   "cell_type": "markdown",
   "id": "fb8d2b32",
   "metadata": {},
   "source": [
    "## 2. Format one column (time)"
   ]
  },
  {
   "cell_type": "code",
   "execution_count": 14,
   "id": "2afdd344",
   "metadata": {},
   "outputs": [
    {
     "data": {
      "text/plain": [
       "121      2023-03-12\\n  更新于2023-03-13 13:26\n",
       "182      2022-01-21\\n  更新于2023-02-21 17:32\n",
       "195      2023-02-16\\n  更新于2023-02-17 16:03\n",
       "197      2023-02-09\\n  更新于2023-02-17 09:47\n",
       "199      2023-02-15\\n  更新于2023-02-16 23:29\n",
       "                       ...                \n",
       "14772    2019-05-27\\n  更新于2019-05-28 19:12\n",
       "14790    2019-05-25\\n  更新于2019-05-26 14:34\n",
       "14791    2019-05-25\\n  更新于2019-05-26 12:20\n",
       "14835    2019-05-08\\n  更新于2019-05-12 10:20\n",
       "14910    2019-04-22\\n  更新于2019-04-23 07:08\n",
       "Name: time, Length: 648, dtype: object"
      ]
     },
     "execution_count": 14,
     "metadata": {},
     "output_type": "execute_result"
    }
   ],
   "source": [
    "# Select all rows in the 'time' column that contain the string '更新于' and store them in a pandas series\n",
    "series = df[df['time'].str.contains(\"更新于\")]['time']\n",
    "\n",
    "# Print the resulting series object\n",
    "series"
   ]
  },
  {
   "cell_type": "code",
   "execution_count": 15,
   "id": "2decbde1",
   "metadata": {
    "scrolled": false
   },
   "outputs": [],
   "source": [
    "# Convert the pandas series object to a Python list\n",
    "time_list = series.tolist()"
   ]
  },
  {
   "cell_type": "markdown",
   "id": "e12d9b55",
   "metadata": {},
   "source": [
    "### Only keep the str behind '更新于'"
   ]
  },
  {
   "cell_type": "code",
   "execution_count": 16,
   "id": "df42348e",
   "metadata": {
    "scrolled": false
   },
   "outputs": [],
   "source": [
    "# Create an empty list to store modified time strings\n",
    "new_time_list = []\n",
    "\n",
    "# Iterate over each item in the original time list\n",
    "for item in time_list:\n",
    "    # Extract the last 16 characters from each time string\n",
    "    new_item = item[-16:]\n",
    "    # Add the modified time string to the new list\n",
    "    new_time_list.append(new_item)"
   ]
  },
  {
   "cell_type": "code",
   "execution_count": 17,
   "id": "e7ac3450",
   "metadata": {},
   "outputs": [
    {
     "name": "stdout",
     "output_type": "stream",
     "text": [
      "648 648\n"
     ]
    }
   ],
   "source": [
    "# Get the length of the original time list\n",
    "length1 = len(time_list)\n",
    "\n",
    "# Get the length of the modified time list\n",
    "length2 = len(new_time_list)\n",
    "\n",
    "# Print the lengths of the two lists\n",
    "print(length1, length2)"
   ]
  },
  {
   "cell_type": "code",
   "execution_count": 18,
   "id": "a910ed8f",
   "metadata": {},
   "outputs": [],
   "source": [
    "# Select all rows in the 'time' column that contain the string '更新于' \n",
    "# and replace the original time strings with the modified ones\n",
    "df.loc[df['time'].str.contains(\"更新于\"), 'time'] = df.loc[df['time'].str.contains(\"更新于\"), 'time'].replace(time_list, new_time_list)"
   ]
  },
  {
   "cell_type": "code",
   "execution_count": 19,
   "id": "d12fe318",
   "metadata": {},
   "outputs": [
    {
     "data": {
      "text/plain": [
       "Series([], Name: time, dtype: object)"
      ]
     },
     "execution_count": 19,
     "metadata": {},
     "output_type": "execute_result"
    }
   ],
   "source": [
    "# Check the outcome\n",
    "df[df['time'].str.contains(\"更新于\")]['time']"
   ]
  },
  {
   "cell_type": "markdown",
   "id": "023d8f25",
   "metadata": {},
   "source": [
    "### Change dtype to datetime"
   ]
  },
  {
   "cell_type": "code",
   "execution_count": 20,
   "id": "1691dc8a",
   "metadata": {},
   "outputs": [
    {
     "name": "stdout",
     "output_type": "stream",
     "text": [
      "user_name             object\n",
      "facs_score           float64\n",
      "envr_score           float64\n",
      "serv_score           float64\n",
      "review                object\n",
      "time          datetime64[ns]\n",
      "from                  object\n",
      "dtype: object\n"
     ]
    }
   ],
   "source": [
    "# Convert the 'time' column to a datetime format using the specified format string\n",
    "df['time'] = pd.to_datetime(df['time'], format=\"%Y-%m-%d %H:%M\")\n",
    "\n",
    "# Print the data types of all columns in the DataFrame\n",
    "print(df.dtypes)"
   ]
  },
  {
   "cell_type": "markdown",
   "id": "ce04d639",
   "metadata": {},
   "source": [
    "## 3. Drop the rows ( 'time' before 2020 )"
   ]
  },
  {
   "cell_type": "code",
   "execution_count": 21,
   "id": "38054155",
   "metadata": {},
   "outputs": [
    {
     "name": "stdout",
     "output_type": "stream",
     "text": [
      "共有 14940 条数据\n"
     ]
    }
   ],
   "source": [
    "# Get the number of rows in the DataFrame 'df'\n",
    "num_rows = df.shape[0]\n",
    "\n",
    "# Print a message that includes the number of rows\n",
    "print(\"共有 {} 条数据\".format(num_rows))"
   ]
  },
  {
   "cell_type": "code",
   "execution_count": 22,
   "id": "e35c25f5",
   "metadata": {},
   "outputs": [],
   "source": [
    "# Filter the DataFrame 'df' to include only rows with a 'time' value greater than or equal to '2020-01-01 00:00:00'\n",
    "df = df[df['time'] >= '2020-01-01 00:00:00']\n",
    "\n",
    "# Reset the index of the DataFrame 'df' after filtering\n",
    "df = df.reset_index(drop=True)"
   ]
  },
  {
   "cell_type": "code",
   "execution_count": 23,
   "id": "77378862",
   "metadata": {
    "scrolled": true
   },
   "outputs": [
    {
     "name": "stdout",
     "output_type": "stream",
     "text": [
      "共有 11307 条数据\n"
     ]
    }
   ],
   "source": [
    "# Get the number of rows in the DataFrame 'df'\n",
    "num_rows = df.shape[0]\n",
    "\n",
    "# Print a message that includes the number of rows\n",
    "print(\"共有 {} 条数据\".format(num_rows))"
   ]
  },
  {
   "cell_type": "markdown",
   "id": "0480d328",
   "metadata": {},
   "source": [
    "## 4. Drop the rows ( 'review' is too short or too long )"
   ]
  },
  {
   "cell_type": "code",
   "execution_count": 24,
   "id": "59ee5dc9",
   "metadata": {},
   "outputs": [],
   "source": [
    "df['review'] = df['review'].apply(lambda x: x.replace(' ', '').replace('\\n', ','))"
   ]
  },
  {
   "cell_type": "code",
   "execution_count": 25,
   "id": "7cdae9d8",
   "metadata": {
    "scrolled": true
   },
   "outputs": [
    {
     "name": "stdout",
     "output_type": "stream",
     "text": [
      "9412    1888\n",
      "6575    1705\n",
      "6486    1497\n",
      "6580    1408\n",
      "4115    1152\n",
      "        ... \n",
      "9678      13\n",
      "3705      13\n",
      "5209      13\n",
      "6148      11\n",
      "3892      11\n",
      "Name: review, Length: 11307, dtype: int64\n"
     ]
    }
   ],
   "source": [
    "# Create a new Pandas series called 'char_count_series' that calculates the number of characters in each row of the 'review' column in the DataFrame 'df'.\n",
    "char_count_series = df['review'].apply(lambda x: len(str(x)))\n",
    "\n",
    "# sort char_count_series in descending order\n",
    "char_count_series = char_count_series.sort_values(ascending=False)\n",
    "\n",
    "# print the char_count_series\n",
    "print(char_count_series)"
   ]
  },
  {
   "cell_type": "code",
   "execution_count": 26,
   "id": "edaad315",
   "metadata": {},
   "outputs": [],
   "source": [
    "# Keep only the rows where the length of the 'review' column is greater than or equal to 10.\n",
    "df = df[df['review'].str.len() >= 20]\n",
    "df = df[df['review'].str.len() <= 300]\n",
    "\n",
    "# Reset the index of the DataFrame 'df' after filtering.\n",
    "df = df.reset_index(drop=True)"
   ]
  },
  {
   "cell_type": "code",
   "execution_count": 27,
   "id": "88dc174a",
   "metadata": {},
   "outputs": [
    {
     "name": "stdout",
     "output_type": "stream",
     "text": [
      "共有 10484 条数据\n"
     ]
    }
   ],
   "source": [
    "# Get the number of rows in the DataFrame 'df' using the 'shape' attribute.\n",
    "num_rows = df.shape[0]\n",
    "\n",
    "# Print the number of rows in the DataFrame 'df'.\n",
    "print(\"共有 {} 条数据\".format(num_rows))"
   ]
  },
  {
   "cell_type": "markdown",
   "id": "12cd46c6",
   "metadata": {},
   "source": [
    "## 5. Find duplicate review text"
   ]
  },
  {
   "cell_type": "code",
   "execution_count": 28,
   "id": "501491d4",
   "metadata": {
    "scrolled": true
   },
   "outputs": [
    {
     "name": "stdout",
     "output_type": "stream",
     "text": [
      "There are no duplicate values in this column\n"
     ]
    }
   ],
   "source": [
    "# Check for duplicates in the 'review' column of the DataFrame 'df'\n",
    "duplicated = df['review'].duplicated().any()\n",
    "\n",
    "# Print a message indicating whether there are duplicates or not\n",
    "if duplicated:\n",
    "    print(\"There are duplicate values in this column\")\n",
    "else:\n",
    "    print(\"There are no duplicate values in this column\")"
   ]
  },
  {
   "cell_type": "markdown",
   "id": "de0b8ebb",
   "metadata": {},
   "source": [
    "## 6.  See if any users are posting multiple reviews"
   ]
  },
  {
   "cell_type": "code",
   "execution_count": 29,
   "id": "11192e0f",
   "metadata": {},
   "outputs": [
    {
     "data": {
      "text/html": [
       "<div>\n",
       "<style scoped>\n",
       "    .dataframe tbody tr th:only-of-type {\n",
       "        vertical-align: middle;\n",
       "    }\n",
       "\n",
       "    .dataframe tbody tr th {\n",
       "        vertical-align: top;\n",
       "    }\n",
       "\n",
       "    .dataframe thead th {\n",
       "        text-align: right;\n",
       "    }\n",
       "</style>\n",
       "<table border=\"1\" class=\"dataframe\">\n",
       "  <thead>\n",
       "    <tr style=\"text-align: right;\">\n",
       "      <th></th>\n",
       "      <th>user_name</th>\n",
       "      <th>facs_score</th>\n",
       "      <th>envr_score</th>\n",
       "      <th>serv_score</th>\n",
       "      <th>review</th>\n",
       "      <th>time</th>\n",
       "      <th>from</th>\n",
       "    </tr>\n",
       "  </thead>\n",
       "  <tbody>\n",
       "    <tr>\n",
       "      <th>10211</th>\n",
       "      <td>1姜姜2</td>\n",
       "      <td>4.5</td>\n",
       "      <td>4.5</td>\n",
       "      <td>4.5</td>\n",
       "      <td>东方新天地,位置～东长安街1号,距地铁1号线王府井站A东北囗步行220米,好久没来东方新天地...</td>\n",
       "      <td>2020-05-30 19:33:00</td>\n",
       "      <td>东方新天地</td>\n",
       "    </tr>\n",
       "    <tr>\n",
       "      <th>6333</th>\n",
       "      <td>1姜姜2</td>\n",
       "      <td>4.5</td>\n",
       "      <td>4.5</td>\n",
       "      <td>4.5</td>\n",
       "      <td>王府井到中环广场，我觉得这个商场有高档又接地气特别好逛的一个商场，尤其是对爱买、爱拍、爱吃、...</td>\n",
       "      <td>2020-08-06 21:38:00</td>\n",
       "      <td>王府中環</td>\n",
       "    </tr>\n",
       "    <tr>\n",
       "      <th>6078</th>\n",
       "      <td>45度搬砖宗</td>\n",
       "      <td>5.0</td>\n",
       "      <td>5.0</td>\n",
       "      <td>5.0</td>\n",
       "      <td>期待已久的咖啡青年节终终终于来啦还是在寸土寸金的王府中環立刻double高大上了,🥛OATL...</td>\n",
       "      <td>2020-09-16 18:51:00</td>\n",
       "      <td>王府中環</td>\n",
       "    </tr>\n",
       "    <tr>\n",
       "      <th>4036</th>\n",
       "      <td>45度搬砖宗</td>\n",
       "      <td>4.5</td>\n",
       "      <td>4.0</td>\n",
       "      <td>4.5</td>\n",
       "      <td>am+pm=apm一座吃喝玩乐应有尽有的商场网红小吃真的不少,奈雪的茶最爱她家各种水果味的冰...</td>\n",
       "      <td>2020-02-15 10:18:00</td>\n",
       "      <td>北京apm</td>\n",
       "    </tr>\n",
       "    <tr>\n",
       "      <th>7519</th>\n",
       "      <td>81821727</td>\n",
       "      <td>4.0</td>\n",
       "      <td>4.0</td>\n",
       "      <td>4.5</td>\n",
       "      <td>已经习惯了前两年北京过年人少，,今年烟火气终于回来了，旺旺旺！,大楼以前是过年大家买糖的地方...</td>\n",
       "      <td>2023-01-29 21:36:00</td>\n",
       "      <td>王府井百货</td>\n",
       "    </tr>\n",
       "    <tr>\n",
       "      <th>...</th>\n",
       "      <td>...</td>\n",
       "      <td>...</td>\n",
       "      <td>...</td>\n",
       "      <td>...</td>\n",
       "      <td>...</td>\n",
       "      <td>...</td>\n",
       "      <td>...</td>\n",
       "    </tr>\n",
       "    <tr>\n",
       "      <th>3035</th>\n",
       "      <td>龙女的妈妈</td>\n",
       "      <td>4.5</td>\n",
       "      <td>4.5</td>\n",
       "      <td>4.5</td>\n",
       "      <td>听说东安市场要升级，产品都在促销今天特意过来看看有没有漏可捡的。人还是不少，一楼有服装和鞋特...</td>\n",
       "      <td>2020-09-26 08:42:00</td>\n",
       "      <td>北京apm</td>\n",
       "    </tr>\n",
       "    <tr>\n",
       "      <th>8122</th>\n",
       "      <td>龙女的妈妈</td>\n",
       "      <td>5.0</td>\n",
       "      <td>5.0</td>\n",
       "      <td>5.0</td>\n",
       "      <td>大年初四顶着门儿进去的。先是去的和平菓局。参观完后就去的楼上，楼上顾客不是很多。还有他家自己...</td>\n",
       "      <td>2021-02-19 09:31:00</td>\n",
       "      <td>王府井百货</td>\n",
       "    </tr>\n",
       "    <tr>\n",
       "      <th>49</th>\n",
       "      <td>龙飞凤舞</td>\n",
       "      <td>5.0</td>\n",
       "      <td>5.0</td>\n",
       "      <td>5.0</td>\n",
       "      <td>北京apm是知名地标之一。每次去都会发现一些变化，像川绝变脸一样，熟悉中有陌生，如首次出现在...</td>\n",
       "      <td>2023-04-05 20:35:00</td>\n",
       "      <td>北京apm</td>\n",
       "    </tr>\n",
       "    <tr>\n",
       "      <th>9436</th>\n",
       "      <td>龙飞凤舞</td>\n",
       "      <td>5.0</td>\n",
       "      <td>5.0</td>\n",
       "      <td>5.0</td>\n",
       "      <td>东方新天地从拿地、设计、施工到开门迎宾，充满了传奇和故事，也是王府井-东单黄金区域的地标。其...</td>\n",
       "      <td>2022-05-05 10:49:00</td>\n",
       "      <td>东方新天地</td>\n",
       "    </tr>\n",
       "    <tr>\n",
       "      <th>4444</th>\n",
       "      <td>龙飞凤舞</td>\n",
       "      <td>5.0</td>\n",
       "      <td>5.0</td>\n",
       "      <td>5.0</td>\n",
       "      <td>王府中環人气回升太快了，一组迎圣诞的圣诞树造型吸引了很多人驻足欣赏，合影拍照留念。各个餐厅开...</td>\n",
       "      <td>2022-12-24 18:36:00</td>\n",
       "      <td>王府中環</td>\n",
       "    </tr>\n",
       "  </tbody>\n",
       "</table>\n",
       "<p>2453 rows × 7 columns</p>\n",
       "</div>"
      ],
      "text/plain": [
       "      user_name  facs_score  envr_score  serv_score  \\\n",
       "10211      1姜姜2         4.5         4.5         4.5   \n",
       "6333       1姜姜2         4.5         4.5         4.5   \n",
       "6078     45度搬砖宗         5.0         5.0         5.0   \n",
       "4036     45度搬砖宗         4.5         4.0         4.5   \n",
       "7519   81821727         4.0         4.0         4.5   \n",
       "...         ...         ...         ...         ...   \n",
       "3035      龙女的妈妈         4.5         4.5         4.5   \n",
       "8122      龙女的妈妈         5.0         5.0         5.0   \n",
       "49         龙飞凤舞         5.0         5.0         5.0   \n",
       "9436       龙飞凤舞         5.0         5.0         5.0   \n",
       "4444       龙飞凤舞         5.0         5.0         5.0   \n",
       "\n",
       "                                                  review                time  \\\n",
       "10211  东方新天地,位置～东长安街1号,距地铁1号线王府井站A东北囗步行220米,好久没来东方新天地... 2020-05-30 19:33:00   \n",
       "6333   王府井到中环广场，我觉得这个商场有高档又接地气特别好逛的一个商场，尤其是对爱买、爱拍、爱吃、... 2020-08-06 21:38:00   \n",
       "6078   期待已久的咖啡青年节终终终于来啦还是在寸土寸金的王府中環立刻double高大上了,🥛OATL... 2020-09-16 18:51:00   \n",
       "4036   am+pm=apm一座吃喝玩乐应有尽有的商场网红小吃真的不少,奈雪的茶最爱她家各种水果味的冰... 2020-02-15 10:18:00   \n",
       "7519   已经习惯了前两年北京过年人少，,今年烟火气终于回来了，旺旺旺！,大楼以前是过年大家买糖的地方... 2023-01-29 21:36:00   \n",
       "...                                                  ...                 ...   \n",
       "3035   听说东安市场要升级，产品都在促销今天特意过来看看有没有漏可捡的。人还是不少，一楼有服装和鞋特... 2020-09-26 08:42:00   \n",
       "8122   大年初四顶着门儿进去的。先是去的和平菓局。参观完后就去的楼上，楼上顾客不是很多。还有他家自己... 2021-02-19 09:31:00   \n",
       "49     北京apm是知名地标之一。每次去都会发现一些变化，像川绝变脸一样，熟悉中有陌生，如首次出现在... 2023-04-05 20:35:00   \n",
       "9436   东方新天地从拿地、设计、施工到开门迎宾，充满了传奇和故事，也是王府井-东单黄金区域的地标。其... 2022-05-05 10:49:00   \n",
       "4444   王府中環人气回升太快了，一组迎圣诞的圣诞树造型吸引了很多人驻足欣赏，合影拍照留念。各个餐厅开... 2022-12-24 18:36:00   \n",
       "\n",
       "        from  \n",
       "10211  东方新天地  \n",
       "6333    王府中環  \n",
       "6078    王府中環  \n",
       "4036   北京apm  \n",
       "7519   王府井百货  \n",
       "...      ...  \n",
       "3035   北京apm  \n",
       "8122   王府井百货  \n",
       "49     北京apm  \n",
       "9436   东方新天地  \n",
       "4444    王府中環  \n",
       "\n",
       "[2453 rows x 7 columns]"
      ]
     },
     "execution_count": 29,
     "metadata": {},
     "output_type": "execute_result"
    }
   ],
   "source": [
    "# define values to skip\n",
    "to_skip = ['匿名用户', '【已注销用户】']\n",
    "\n",
    "# create boolean Series of values to skip\n",
    "not_skipped = ~df['user_name'].isin(to_skip)\n",
    "\n",
    "# find duplicated rows\n",
    "duplicated_rows = df[not_skipped].duplicated(subset=['user_name'], keep=False)\n",
    "\n",
    "# select only duplicated rows that are not skipped\n",
    "duplicate_df = df[not_skipped][duplicated_rows]\n",
    "\n",
    "# sort and print duplicated rows\n",
    "duplicate_df = duplicate_df.sort_values(by='user_name')\n",
    "\n",
    "duplicate_df"
   ]
  },
  {
   "cell_type": "code",
   "execution_count": 30,
   "id": "9313b9b7",
   "metadata": {
    "scrolled": true
   },
   "outputs": [
    {
     "name": "stdout",
     "output_type": "stream",
     "text": [
      "user_name\n",
      "一米阳光        5\n",
      "小米          5\n",
      "jessiefp    4\n",
      "阳光          4\n",
      "风景          4\n",
      "           ..\n",
      "卡沙巴王子1      2\n",
      "卤面666       2\n",
      "原来是猪猪ya     2\n",
      "双子星_559     2\n",
      "对方正在向你呲牙    2\n",
      "Length: 1080, dtype: int64\n"
     ]
    }
   ],
   "source": [
    "# count the occurrences for each duplicated user_name\n",
    "occurrences = duplicate_df.groupby('user_name').size()\n",
    "\n",
    "# sort and print the counts of occurrences\n",
    "occurrences = occurrences.sort_values(ascending=False)\n",
    "print(occurrences)"
   ]
  },
  {
   "cell_type": "code",
   "execution_count": 31,
   "id": "9e765c3c",
   "metadata": {},
   "outputs": [
    {
     "name": "stdout",
     "output_type": "stream",
     "text": [
      "3566     团购了这张券是真的超级划算了，50元抵100元花，去了西单大悦城的一家餐馆吃饭，貌似叫鹿港小...\n",
      "6379     位于王府井大街的中环广场整体购物环境真不错！人非常少，品牌店很多：大牌，轻奢，运动品牌都不少...\n",
      "7984     百货大楼的江湖地位那是不得了，那是全国人民的百货大楼哈……,不过由于各种原因，北京人逛百货大...\n",
      "8889     北京王府井北京市百货大楼，应该是北京最老的商场了，建筑很有古典特色，算是钟楼吧，有时针，去的...\n",
      "10481    很久没有来东方广场了，今天路过来看看，硬件保持的还是挺好的，里面加了好多珠宝品牌，珠宝什么时...\n",
      "Name: review, dtype: object\n"
     ]
    }
   ],
   "source": [
    "# find all rows with user_name \"一米阳光\"\n",
    "rows = df[df['user_name'] == '一米阳光']['review']\n",
    "\n",
    "# print the rows\n",
    "print(rows)"
   ]
  },
  {
   "cell_type": "markdown",
   "id": "2bea1995",
   "metadata": {},
   "source": [
    "### After inspection, there is no violation and malicious comment, so it will be retained."
   ]
  },
  {
   "cell_type": "markdown",
   "id": "e107b1b6",
   "metadata": {},
   "source": [
    "## 7. Add a new column : avg_score"
   ]
  },
  {
   "cell_type": "code",
   "execution_count": 32,
   "id": "2347acc3",
   "metadata": {},
   "outputs": [],
   "source": [
    "df.insert(4, 'avg_score', df.iloc[:, 1:4].mean(axis=1).round(1))"
   ]
  },
  {
   "cell_type": "code",
   "execution_count": 33,
   "id": "8f1c85a7",
   "metadata": {},
   "outputs": [
    {
     "data": {
      "text/html": [
       "<div>\n",
       "<style scoped>\n",
       "    .dataframe tbody tr th:only-of-type {\n",
       "        vertical-align: middle;\n",
       "    }\n",
       "\n",
       "    .dataframe tbody tr th {\n",
       "        vertical-align: top;\n",
       "    }\n",
       "\n",
       "    .dataframe thead th {\n",
       "        text-align: right;\n",
       "    }\n",
       "</style>\n",
       "<table border=\"1\" class=\"dataframe\">\n",
       "  <thead>\n",
       "    <tr style=\"text-align: right;\">\n",
       "      <th></th>\n",
       "      <th>user_name</th>\n",
       "      <th>facs_score</th>\n",
       "      <th>envr_score</th>\n",
       "      <th>serv_score</th>\n",
       "      <th>avg_score</th>\n",
       "      <th>review</th>\n",
       "      <th>time</th>\n",
       "      <th>from</th>\n",
       "    </tr>\n",
       "  </thead>\n",
       "  <tbody>\n",
       "    <tr>\n",
       "      <th>0</th>\n",
       "      <td>牙大酥</td>\n",
       "      <td>5.0</td>\n",
       "      <td>5.0</td>\n",
       "      <td>5.0</td>\n",
       "      <td>5.0</td>\n",
       "      <td>特别赞的一家商场，在王府井这个商场云集和大牌云集的地方，apm商场算是人气特别高的了。,交通...</td>\n",
       "      <td>2023-04-17 23:12:00</td>\n",
       "      <td>北京apm</td>\n",
       "    </tr>\n",
       "    <tr>\n",
       "      <th>1</th>\n",
       "      <td>磕磕绊绊</td>\n",
       "      <td>5.0</td>\n",
       "      <td>5.0</td>\n",
       "      <td>5.0</td>\n",
       "      <td>5.0</td>\n",
       "      <td>LINLEE在王府井apm也开新店了，超级喜欢他们家的口味，和朋友逛街无意看到的，果断去买一...</td>\n",
       "      <td>2023-04-17 21:22:00</td>\n",
       "      <td>北京apm</td>\n",
       "    </tr>\n",
       "    <tr>\n",
       "      <th>2</th>\n",
       "      <td>吃货阿浪</td>\n",
       "      <td>5.0</td>\n",
       "      <td>5.0</td>\n",
       "      <td>5.0</td>\n",
       "      <td>5.0</td>\n",
       "      <td>北京apm,东城区商场热门榜第一名☝️🥇,王府井大街138号,环境：商场环境干净整齐，布局分...</td>\n",
       "      <td>2023-04-17 21:05:00</td>\n",
       "      <td>北京apm</td>\n",
       "    </tr>\n",
       "    <tr>\n",
       "      <th>3</th>\n",
       "      <td>祁清和</td>\n",
       "      <td>4.5</td>\n",
       "      <td>4.5</td>\n",
       "      <td>4.5</td>\n",
       "      <td>4.5</td>\n",
       "      <td>一定要错过下午5点半以后，不然吃饭只能排队等半个小时，而且拿到号了一定别因为还有十几桌就走开...</td>\n",
       "      <td>2023-04-17 10:19:00</td>\n",
       "      <td>北京apm</td>\n",
       "    </tr>\n",
       "    <tr>\n",
       "      <th>4</th>\n",
       "      <td>樱桃子</td>\n",
       "      <td>4.5</td>\n",
       "      <td>4.5</td>\n",
       "      <td>4.5</td>\n",
       "      <td>4.5</td>\n",
       "      <td>花·Young的年华……,2023年3🈷️31日～～5月3日，北京apm首层中庭，迎来7位艺...</td>\n",
       "      <td>2023-04-16 21:47:00</td>\n",
       "      <td>北京apm</td>\n",
       "    </tr>\n",
       "  </tbody>\n",
       "</table>\n",
       "</div>"
      ],
      "text/plain": [
       "  user_name  facs_score  envr_score  serv_score  avg_score  \\\n",
       "0       牙大酥         5.0         5.0         5.0        5.0   \n",
       "1      磕磕绊绊         5.0         5.0         5.0        5.0   \n",
       "2      吃货阿浪         5.0         5.0         5.0        5.0   \n",
       "3       祁清和         4.5         4.5         4.5        4.5   \n",
       "4       樱桃子         4.5         4.5         4.5        4.5   \n",
       "\n",
       "                                              review                time  \\\n",
       "0  特别赞的一家商场，在王府井这个商场云集和大牌云集的地方，apm商场算是人气特别高的了。,交通... 2023-04-17 23:12:00   \n",
       "1  LINLEE在王府井apm也开新店了，超级喜欢他们家的口味，和朋友逛街无意看到的，果断去买一... 2023-04-17 21:22:00   \n",
       "2  北京apm,东城区商场热门榜第一名☝️🥇,王府井大街138号,环境：商场环境干净整齐，布局分... 2023-04-17 21:05:00   \n",
       "3  一定要错过下午5点半以后，不然吃饭只能排队等半个小时，而且拿到号了一定别因为还有十几桌就走开... 2023-04-17 10:19:00   \n",
       "4  花·Young的年华……,2023年3🈷️31日～～5月3日，北京apm首层中庭，迎来7位艺... 2023-04-16 21:47:00   \n",
       "\n",
       "    from  \n",
       "0  北京apm  \n",
       "1  北京apm  \n",
       "2  北京apm  \n",
       "3  北京apm  \n",
       "4  北京apm  "
      ]
     },
     "execution_count": 33,
     "metadata": {},
     "output_type": "execute_result"
    }
   ],
   "source": [
    "df.head(5)"
   ]
  },
  {
   "cell_type": "markdown",
   "id": "74f666dc",
   "metadata": {},
   "source": [
    "## 8. Save the new cleaned data"
   ]
  },
  {
   "cell_type": "markdown",
   "id": "08becaf5",
   "metadata": {},
   "source": [
    "### Save as groupby"
   ]
  },
  {
   "cell_type": "code",
   "execution_count": 34,
   "id": "a132b51a",
   "metadata": {},
   "outputs": [],
   "source": [
    "# Group the DataFrame 'df' by the values in the 'from' column\n",
    "grouped = df.groupby('from')\n",
    "\n",
    "# Define the folder name where the CSV files will be saved\n",
    "folder_name = '../data'\n",
    "\n",
    "# Iterate over each group and save it to a separate CSV file\n",
    "for name, group in grouped:\n",
    "    # Define the filename for the CSV file\n",
    "    filename = f'{folder_name}/{name}.csv'\n",
    "    # Save the group to the CSV file, without including the index column\n",
    "    group.to_csv(filename, index=False)"
   ]
  },
  {
   "cell_type": "markdown",
   "id": "ec28f27c",
   "metadata": {},
   "source": [
    "### Save the total"
   ]
  },
  {
   "cell_type": "code",
   "execution_count": 35,
   "id": "0403b15d",
   "metadata": {},
   "outputs": [],
   "source": [
    "df.to_csv('../data/stores_clean.csv', encoding='utf-8', index=False)"
   ]
  }
 ],
 "metadata": {
  "kernelspec": {
   "display_name": "Datascience",
   "language": "python",
   "name": "datascience"
  },
  "language_info": {
   "codemirror_mode": {
    "name": "ipython",
    "version": 3
   },
   "file_extension": ".py",
   "mimetype": "text/x-python",
   "name": "python",
   "nbconvert_exporter": "python",
   "pygments_lexer": "ipython3",
   "version": "3.9.13"
  }
 },
 "nbformat": 4,
 "nbformat_minor": 5
}
